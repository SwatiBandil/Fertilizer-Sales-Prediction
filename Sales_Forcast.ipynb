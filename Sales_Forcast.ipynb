{
 "cells": [
  {
   "cell_type": "markdown",
   "id": "9b3f0191",
   "metadata": {},
   "source": [
    "\n",
    "\n",
    "\n",
    "\n",
    "\n",
    "\n",
    "\n",
    "#Analyze and forecast sales of pesticides for a domestic pesticide manufacturing company (ABC Manufacturing) and analyze variables that impact the sales of the product."
   ]
  },
  {
   "cell_type": "code",
   "execution_count": null,
   "id": "a000cfe0",
   "metadata": {},
   "outputs": [],
   "source": []
  },
  {
   "cell_type": "code",
   "execution_count": 1,
   "id": "fd138a51",
   "metadata": {},
   "outputs": [],
   "source": [
    "import numpy as np\n",
    "import pandas as pd\n",
    "import matplotlib.pyplot as plt\n",
    "%matplotlib inline\n",
    "import seaborn as sns"
   ]
  },
  {
   "cell_type": "code",
   "execution_count": 2,
   "id": "123fb7ac",
   "metadata": {},
   "outputs": [],
   "source": [
    "df_sales= pd.read_csv(\"Sales_Forecast_Data.csv\")"
   ]
  },
  {
   "cell_type": "code",
   "execution_count": 3,
   "id": "0c7ad0e4",
   "metadata": {},
   "outputs": [
    {
     "data": {
      "text/html": [
       "<div>\n",
       "<style scoped>\n",
       "    .dataframe tbody tr th:only-of-type {\n",
       "        vertical-align: middle;\n",
       "    }\n",
       "\n",
       "    .dataframe tbody tr th {\n",
       "        vertical-align: top;\n",
       "    }\n",
       "\n",
       "    .dataframe thead th {\n",
       "        text-align: right;\n",
       "    }\n",
       "</style>\n",
       "<table border=\"1\" class=\"dataframe\">\n",
       "  <thead>\n",
       "    <tr style=\"text-align: right;\">\n",
       "      <th></th>\n",
       "      <th>FIN_YEAR</th>\n",
       "      <th>MONTH</th>\n",
       "      <th>STATE</th>\n",
       "      <th>FG</th>\n",
       "      <th>DISTRICT</th>\n",
       "      <th>COMPANY</th>\n",
       "      <th>VALUE</th>\n",
       "    </tr>\n",
       "  </thead>\n",
       "  <tbody>\n",
       "    <tr>\n",
       "      <th>0</th>\n",
       "      <td>2014-2015</td>\n",
       "      <td>Nov</td>\n",
       "      <td>Haryana</td>\n",
       "      <td>Insecticides</td>\n",
       "      <td>Rohtak</td>\n",
       "      <td>monous</td>\n",
       "      <td>675.00</td>\n",
       "    </tr>\n",
       "    <tr>\n",
       "      <th>1</th>\n",
       "      <td>2014-2015</td>\n",
       "      <td>Nov</td>\n",
       "      <td>Haryana</td>\n",
       "      <td>Insecticides</td>\n",
       "      <td>Rewari</td>\n",
       "      <td>monous</td>\n",
       "      <td>73.71</td>\n",
       "    </tr>\n",
       "    <tr>\n",
       "      <th>2</th>\n",
       "      <td>2014-2015</td>\n",
       "      <td>Nov</td>\n",
       "      <td>Haryana</td>\n",
       "      <td>Insecticides</td>\n",
       "      <td>Gurgaon</td>\n",
       "      <td>monous</td>\n",
       "      <td>405.00</td>\n",
       "    </tr>\n",
       "    <tr>\n",
       "      <th>3</th>\n",
       "      <td>2014-2015</td>\n",
       "      <td>Nov</td>\n",
       "      <td>Haryana</td>\n",
       "      <td>Insecticides</td>\n",
       "      <td>Mewat</td>\n",
       "      <td>monous</td>\n",
       "      <td>1188.00</td>\n",
       "    </tr>\n",
       "    <tr>\n",
       "      <th>4</th>\n",
       "      <td>2014-2015</td>\n",
       "      <td>Nov</td>\n",
       "      <td>Haryana</td>\n",
       "      <td>Insecticides</td>\n",
       "      <td>Palwal</td>\n",
       "      <td>monous</td>\n",
       "      <td>5188.59</td>\n",
       "    </tr>\n",
       "  </tbody>\n",
       "</table>\n",
       "</div>"
      ],
      "text/plain": [
       "    FIN_YEAR MONTH    STATE            FG DISTRICT  COMPANY    VALUE\n",
       "0  2014-2015   Nov  Haryana  Insecticides   Rohtak  monous    675.00\n",
       "1  2014-2015   Nov  Haryana  Insecticides   Rewari  monous     73.71\n",
       "2  2014-2015   Nov  Haryana  Insecticides  Gurgaon  monous    405.00\n",
       "3  2014-2015   Nov  Haryana  Insecticides    Mewat  monous   1188.00\n",
       "4  2014-2015   Nov  Haryana  Insecticides   Palwal  monous   5188.59"
      ]
     },
     "execution_count": 3,
     "metadata": {},
     "output_type": "execute_result"
    }
   ],
   "source": [
    "df_sales.head()"
   ]
  },
  {
   "cell_type": "code",
   "execution_count": 4,
   "id": "1b498364",
   "metadata": {},
   "outputs": [
    {
     "name": "stdout",
     "output_type": "stream",
     "text": [
      "<class 'pandas.core.frame.DataFrame'>\n",
      "RangeIndex: 230152 entries, 0 to 230151\n",
      "Data columns (total 7 columns):\n",
      " #   Column    Non-Null Count   Dtype  \n",
      "---  ------    --------------   -----  \n",
      " 0   FIN_YEAR  230152 non-null  object \n",
      " 1   MONTH     230152 non-null  object \n",
      " 2   STATE     230152 non-null  object \n",
      " 3   FG        230152 non-null  object \n",
      " 4   DISTRICT  230152 non-null  object \n",
      " 5   COMPANY   230152 non-null  object \n",
      " 6   VALUE     230152 non-null  float64\n",
      "dtypes: float64(1), object(6)\n",
      "memory usage: 12.3+ MB\n"
     ]
    }
   ],
   "source": [
    "df_sales.info()"
   ]
  },
  {
   "cell_type": "code",
   "execution_count": 5,
   "id": "eac27b5b",
   "metadata": {},
   "outputs": [
    {
     "data": {
      "text/plain": [
       "(230152, 7)"
      ]
     },
     "execution_count": 5,
     "metadata": {},
     "output_type": "execute_result"
    }
   ],
   "source": [
    "df_sales.shape"
   ]
  },
  {
   "cell_type": "code",
   "execution_count": 6,
   "id": "86eac181",
   "metadata": {},
   "outputs": [
    {
     "data": {
      "text/plain": [
       "(218184, 7)"
      ]
     },
     "execution_count": 6,
     "metadata": {},
     "output_type": "execute_result"
    }
   ],
   "source": [
    "df_sales.drop_duplicates(inplace=True)\n",
    "df_sales.shape"
   ]
  },
  {
   "cell_type": "code",
   "execution_count": 7,
   "id": "fffef945",
   "metadata": {},
   "outputs": [],
   "source": [
    "#converting Month names in month numbers"
   ]
  },
  {
   "cell_type": "code",
   "execution_count": 8,
   "id": "7e392251",
   "metadata": {},
   "outputs": [
    {
     "data": {
      "text/html": [
       "<div>\n",
       "<style scoped>\n",
       "    .dataframe tbody tr th:only-of-type {\n",
       "        vertical-align: middle;\n",
       "    }\n",
       "\n",
       "    .dataframe tbody tr th {\n",
       "        vertical-align: top;\n",
       "    }\n",
       "\n",
       "    .dataframe thead th {\n",
       "        text-align: right;\n",
       "    }\n",
       "</style>\n",
       "<table border=\"1\" class=\"dataframe\">\n",
       "  <thead>\n",
       "    <tr style=\"text-align: right;\">\n",
       "      <th></th>\n",
       "      <th>FIN_YEAR</th>\n",
       "      <th>MONTH</th>\n",
       "      <th>STATE</th>\n",
       "      <th>FG</th>\n",
       "      <th>DISTRICT</th>\n",
       "      <th>COMPANY</th>\n",
       "      <th>VALUE</th>\n",
       "    </tr>\n",
       "  </thead>\n",
       "  <tbody>\n",
       "    <tr>\n",
       "      <th>0</th>\n",
       "      <td>2014-2015</td>\n",
       "      <td>11</td>\n",
       "      <td>Haryana</td>\n",
       "      <td>Insecticides</td>\n",
       "      <td>Rohtak</td>\n",
       "      <td>monous</td>\n",
       "      <td>675.00</td>\n",
       "    </tr>\n",
       "    <tr>\n",
       "      <th>1</th>\n",
       "      <td>2014-2015</td>\n",
       "      <td>11</td>\n",
       "      <td>Haryana</td>\n",
       "      <td>Insecticides</td>\n",
       "      <td>Rewari</td>\n",
       "      <td>monous</td>\n",
       "      <td>73.71</td>\n",
       "    </tr>\n",
       "    <tr>\n",
       "      <th>2</th>\n",
       "      <td>2014-2015</td>\n",
       "      <td>11</td>\n",
       "      <td>Haryana</td>\n",
       "      <td>Insecticides</td>\n",
       "      <td>Gurgaon</td>\n",
       "      <td>monous</td>\n",
       "      <td>405.00</td>\n",
       "    </tr>\n",
       "    <tr>\n",
       "      <th>3</th>\n",
       "      <td>2014-2015</td>\n",
       "      <td>11</td>\n",
       "      <td>Haryana</td>\n",
       "      <td>Insecticides</td>\n",
       "      <td>Mewat</td>\n",
       "      <td>monous</td>\n",
       "      <td>1188.00</td>\n",
       "    </tr>\n",
       "    <tr>\n",
       "      <th>4</th>\n",
       "      <td>2014-2015</td>\n",
       "      <td>11</td>\n",
       "      <td>Haryana</td>\n",
       "      <td>Insecticides</td>\n",
       "      <td>Palwal</td>\n",
       "      <td>monous</td>\n",
       "      <td>5188.59</td>\n",
       "    </tr>\n",
       "  </tbody>\n",
       "</table>\n",
       "</div>"
      ],
      "text/plain": [
       "    FIN_YEAR  MONTH    STATE            FG DISTRICT  COMPANY    VALUE\n",
       "0  2014-2015     11  Haryana  Insecticides   Rohtak  monous    675.00\n",
       "1  2014-2015     11  Haryana  Insecticides   Rewari  monous     73.71\n",
       "2  2014-2015     11  Haryana  Insecticides  Gurgaon  monous    405.00\n",
       "3  2014-2015     11  Haryana  Insecticides    Mewat  monous   1188.00\n",
       "4  2014-2015     11  Haryana  Insecticides   Palwal  monous   5188.59"
      ]
     },
     "execution_count": 8,
     "metadata": {},
     "output_type": "execute_result"
    }
   ],
   "source": [
    "month_num= {'MONTH':{'Jan': 1,'Feb': 2,'Mar': 3,'Apr': 4,'May': 5,'Jun': 6,'Jul': 7,'Aug': 8,'Sep': 9, 'Oct': 10,'Nov': 11,'Dec': 12}}\n",
    "df_sales.replace(month_num,inplace=True)\n",
    "df_sales.head()"
   ]
  },
  {
   "cell_type": "code",
   "execution_count": 9,
   "id": "ecf83c15",
   "metadata": {},
   "outputs": [],
   "source": [
    "years={'FIN_YEAR':{\"2014-2015\": 2014, \"2015-2016\": 2015, \"2016-2017\": 2016, \"2017-2018\":2017}}\n",
    "df_sales.replace(years,inplace=True)"
   ]
  },
  {
   "cell_type": "code",
   "execution_count": 10,
   "id": "db27bfbf",
   "metadata": {},
   "outputs": [],
   "source": [
    "df_sales['FIN_YEAR']= df_sales.apply(lambda x: '%s-%s' % (x['FIN_YEAR'],x['MONTH']),axis=1)"
   ]
  },
  {
   "cell_type": "code",
   "execution_count": 11,
   "id": "04432b02",
   "metadata": {},
   "outputs": [],
   "source": [
    "df_sales['FIN_YEAR']=pd.to_datetime(df_sales['FIN_YEAR'])"
   ]
  },
  {
   "cell_type": "code",
   "execution_count": 12,
   "id": "33fd7816",
   "metadata": {},
   "outputs": [],
   "source": [
    "df_sales.drop(\"MONTH\", axis=1, inplace =True)"
   ]
  },
  {
   "cell_type": "code",
   "execution_count": 13,
   "id": "17805227",
   "metadata": {},
   "outputs": [
    {
     "data": {
      "text/html": [
       "<div>\n",
       "<style scoped>\n",
       "    .dataframe tbody tr th:only-of-type {\n",
       "        vertical-align: middle;\n",
       "    }\n",
       "\n",
       "    .dataframe tbody tr th {\n",
       "        vertical-align: top;\n",
       "    }\n",
       "\n",
       "    .dataframe thead th {\n",
       "        text-align: right;\n",
       "    }\n",
       "</style>\n",
       "<table border=\"1\" class=\"dataframe\">\n",
       "  <thead>\n",
       "    <tr style=\"text-align: right;\">\n",
       "      <th></th>\n",
       "      <th>FIN_YEAR</th>\n",
       "      <th>STATE</th>\n",
       "      <th>FG</th>\n",
       "      <th>DISTRICT</th>\n",
       "      <th>COMPANY</th>\n",
       "      <th>VALUE</th>\n",
       "    </tr>\n",
       "  </thead>\n",
       "  <tbody>\n",
       "    <tr>\n",
       "      <th>0</th>\n",
       "      <td>2014-11-01</td>\n",
       "      <td>Haryana</td>\n",
       "      <td>Insecticides</td>\n",
       "      <td>Rohtak</td>\n",
       "      <td>monous</td>\n",
       "      <td>675.00</td>\n",
       "    </tr>\n",
       "    <tr>\n",
       "      <th>1</th>\n",
       "      <td>2014-11-01</td>\n",
       "      <td>Haryana</td>\n",
       "      <td>Insecticides</td>\n",
       "      <td>Rewari</td>\n",
       "      <td>monous</td>\n",
       "      <td>73.71</td>\n",
       "    </tr>\n",
       "    <tr>\n",
       "      <th>2</th>\n",
       "      <td>2014-11-01</td>\n",
       "      <td>Haryana</td>\n",
       "      <td>Insecticides</td>\n",
       "      <td>Gurgaon</td>\n",
       "      <td>monous</td>\n",
       "      <td>405.00</td>\n",
       "    </tr>\n",
       "    <tr>\n",
       "      <th>3</th>\n",
       "      <td>2014-11-01</td>\n",
       "      <td>Haryana</td>\n",
       "      <td>Insecticides</td>\n",
       "      <td>Mewat</td>\n",
       "      <td>monous</td>\n",
       "      <td>1188.00</td>\n",
       "    </tr>\n",
       "    <tr>\n",
       "      <th>4</th>\n",
       "      <td>2014-11-01</td>\n",
       "      <td>Haryana</td>\n",
       "      <td>Insecticides</td>\n",
       "      <td>Palwal</td>\n",
       "      <td>monous</td>\n",
       "      <td>5188.59</td>\n",
       "    </tr>\n",
       "  </tbody>\n",
       "</table>\n",
       "</div>"
      ],
      "text/plain": [
       "    FIN_YEAR    STATE            FG DISTRICT  COMPANY    VALUE\n",
       "0 2014-11-01  Haryana  Insecticides   Rohtak  monous    675.00\n",
       "1 2014-11-01  Haryana  Insecticides   Rewari  monous     73.71\n",
       "2 2014-11-01  Haryana  Insecticides  Gurgaon  monous    405.00\n",
       "3 2014-11-01  Haryana  Insecticides    Mewat  monous   1188.00\n",
       "4 2014-11-01  Haryana  Insecticides   Palwal  monous   5188.59"
      ]
     },
     "execution_count": 13,
     "metadata": {},
     "output_type": "execute_result"
    }
   ],
   "source": [
    "df_sales.head()"
   ]
  },
  {
   "cell_type": "markdown",
   "id": "07a3a384",
   "metadata": {},
   "source": [
    "#Converting data in quarterly format"
   ]
  },
  {
   "cell_type": "code",
   "execution_count": 14,
   "id": "6f7ec485",
   "metadata": {},
   "outputs": [],
   "source": [
    "df_sales['QUARTERS'] = df_sales['FIN_YEAR'].dt.to_period('Q')"
   ]
  },
  {
   "cell_type": "code",
   "execution_count": 15,
   "id": "7f2ac597",
   "metadata": {},
   "outputs": [
    {
     "data": {
      "text/plain": [
       "0         2014Q4\n",
       "1         2014Q4\n",
       "2         2014Q4\n",
       "3         2014Q4\n",
       "4         2014Q4\n",
       "           ...  \n",
       "230147    2016Q4\n",
       "230148    2016Q4\n",
       "230149    2016Q4\n",
       "230150    2016Q4\n",
       "230151    2016Q1\n",
       "Name: QUARTERS, Length: 218184, dtype: period[Q-DEC]"
      ]
     },
     "execution_count": 15,
     "metadata": {},
     "output_type": "execute_result"
    }
   ],
   "source": [
    "df_sales['QUARTERS']"
   ]
  },
  {
   "cell_type": "code",
   "execution_count": 16,
   "id": "11467d8c",
   "metadata": {},
   "outputs": [
    {
     "data": {
      "text/html": [
       "<div>\n",
       "<style scoped>\n",
       "    .dataframe tbody tr th:only-of-type {\n",
       "        vertical-align: middle;\n",
       "    }\n",
       "\n",
       "    .dataframe tbody tr th {\n",
       "        vertical-align: top;\n",
       "    }\n",
       "\n",
       "    .dataframe thead th {\n",
       "        text-align: right;\n",
       "    }\n",
       "</style>\n",
       "<table border=\"1\" class=\"dataframe\">\n",
       "  <thead>\n",
       "    <tr style=\"text-align: right;\">\n",
       "      <th></th>\n",
       "      <th>FIN_YEAR</th>\n",
       "      <th>STATE</th>\n",
       "      <th>FG</th>\n",
       "      <th>DISTRICT</th>\n",
       "      <th>COMPANY</th>\n",
       "      <th>VALUE</th>\n",
       "      <th>QUARTERS</th>\n",
       "    </tr>\n",
       "  </thead>\n",
       "  <tbody>\n",
       "    <tr>\n",
       "      <th>0</th>\n",
       "      <td>2014-11-01</td>\n",
       "      <td>Haryana</td>\n",
       "      <td>Insecticides</td>\n",
       "      <td>Rohtak</td>\n",
       "      <td>monous</td>\n",
       "      <td>675.00</td>\n",
       "      <td>2014Q4</td>\n",
       "    </tr>\n",
       "    <tr>\n",
       "      <th>1</th>\n",
       "      <td>2014-11-01</td>\n",
       "      <td>Haryana</td>\n",
       "      <td>Insecticides</td>\n",
       "      <td>Rewari</td>\n",
       "      <td>monous</td>\n",
       "      <td>73.71</td>\n",
       "      <td>2014Q4</td>\n",
       "    </tr>\n",
       "    <tr>\n",
       "      <th>2</th>\n",
       "      <td>2014-11-01</td>\n",
       "      <td>Haryana</td>\n",
       "      <td>Insecticides</td>\n",
       "      <td>Gurgaon</td>\n",
       "      <td>monous</td>\n",
       "      <td>405.00</td>\n",
       "      <td>2014Q4</td>\n",
       "    </tr>\n",
       "    <tr>\n",
       "      <th>3</th>\n",
       "      <td>2014-11-01</td>\n",
       "      <td>Haryana</td>\n",
       "      <td>Insecticides</td>\n",
       "      <td>Mewat</td>\n",
       "      <td>monous</td>\n",
       "      <td>1188.00</td>\n",
       "      <td>2014Q4</td>\n",
       "    </tr>\n",
       "    <tr>\n",
       "      <th>4</th>\n",
       "      <td>2014-11-01</td>\n",
       "      <td>Haryana</td>\n",
       "      <td>Insecticides</td>\n",
       "      <td>Palwal</td>\n",
       "      <td>monous</td>\n",
       "      <td>5188.59</td>\n",
       "      <td>2014Q4</td>\n",
       "    </tr>\n",
       "  </tbody>\n",
       "</table>\n",
       "</div>"
      ],
      "text/plain": [
       "    FIN_YEAR    STATE            FG DISTRICT  COMPANY    VALUE QUARTERS\n",
       "0 2014-11-01  Haryana  Insecticides   Rohtak  monous    675.00   2014Q4\n",
       "1 2014-11-01  Haryana  Insecticides   Rewari  monous     73.71   2014Q4\n",
       "2 2014-11-01  Haryana  Insecticides  Gurgaon  monous    405.00   2014Q4\n",
       "3 2014-11-01  Haryana  Insecticides    Mewat  monous   1188.00   2014Q4\n",
       "4 2014-11-01  Haryana  Insecticides   Palwal  monous   5188.59   2014Q4"
      ]
     },
     "execution_count": 16,
     "metadata": {},
     "output_type": "execute_result"
    }
   ],
   "source": [
    "df_sales.head()"
   ]
  },
  {
   "cell_type": "markdown",
   "id": "6f3e157a",
   "metadata": {},
   "source": [
    "as the data is follow indian finalcial year so converting quarters as per indian financial calender from apr-Mar"
   ]
  },
  {
   "cell_type": "code",
   "execution_count": 17,
   "id": "b8ad3b23",
   "metadata": {},
   "outputs": [],
   "source": [
    "df_sales.QUARTERS=df_sales.QUARTERS.astype(str)"
   ]
  },
  {
   "cell_type": "code",
   "execution_count": 18,
   "id": "70c054d9",
   "metadata": {},
   "outputs": [],
   "source": [
    "Quarter={'QUARTERS':{'2014Q1':'2013Q4', '2014Q2':'2014Q1', '2014Q3':'2014Q2', '2014Q4':'2014Q3',\n",
    "                     '2015Q1':'2014Q4', '2015Q2':'2015Q1', '2015Q3':'2015Q2', '2015Q4':'2015Q3',\n",
    "                     '2016Q1':'2015Q4', '2016Q2':'2016Q1', '2016Q3':'2016Q2', '2016Q4':'2016Q3',\n",
    "                     '2017Q1':'2016Q4', '2017Q2':'2017Q1', '2017Q3':'2017Q2', '2017Q4':'2017Q3'}}\n",
    "df_sales.replace(Quarter, inplace=True)"
   ]
  },
  {
   "cell_type": "code",
   "execution_count": 19,
   "id": "fa787c1d",
   "metadata": {},
   "outputs": [
    {
     "data": {
      "text/html": [
       "<div>\n",
       "<style scoped>\n",
       "    .dataframe tbody tr th:only-of-type {\n",
       "        vertical-align: middle;\n",
       "    }\n",
       "\n",
       "    .dataframe tbody tr th {\n",
       "        vertical-align: top;\n",
       "    }\n",
       "\n",
       "    .dataframe thead th {\n",
       "        text-align: right;\n",
       "    }\n",
       "</style>\n",
       "<table border=\"1\" class=\"dataframe\">\n",
       "  <thead>\n",
       "    <tr style=\"text-align: right;\">\n",
       "      <th></th>\n",
       "      <th>FIN_YEAR</th>\n",
       "      <th>STATE</th>\n",
       "      <th>FG</th>\n",
       "      <th>DISTRICT</th>\n",
       "      <th>COMPANY</th>\n",
       "      <th>VALUE</th>\n",
       "      <th>QUARTERS</th>\n",
       "    </tr>\n",
       "  </thead>\n",
       "  <tbody>\n",
       "    <tr>\n",
       "      <th>0</th>\n",
       "      <td>2014-11-01</td>\n",
       "      <td>Haryana</td>\n",
       "      <td>Insecticides</td>\n",
       "      <td>Rohtak</td>\n",
       "      <td>monous</td>\n",
       "      <td>675.00</td>\n",
       "      <td>2014Q3</td>\n",
       "    </tr>\n",
       "    <tr>\n",
       "      <th>1</th>\n",
       "      <td>2014-11-01</td>\n",
       "      <td>Haryana</td>\n",
       "      <td>Insecticides</td>\n",
       "      <td>Rewari</td>\n",
       "      <td>monous</td>\n",
       "      <td>73.71</td>\n",
       "      <td>2014Q3</td>\n",
       "    </tr>\n",
       "    <tr>\n",
       "      <th>2</th>\n",
       "      <td>2014-11-01</td>\n",
       "      <td>Haryana</td>\n",
       "      <td>Insecticides</td>\n",
       "      <td>Gurgaon</td>\n",
       "      <td>monous</td>\n",
       "      <td>405.00</td>\n",
       "      <td>2014Q3</td>\n",
       "    </tr>\n",
       "    <tr>\n",
       "      <th>3</th>\n",
       "      <td>2014-11-01</td>\n",
       "      <td>Haryana</td>\n",
       "      <td>Insecticides</td>\n",
       "      <td>Mewat</td>\n",
       "      <td>monous</td>\n",
       "      <td>1188.00</td>\n",
       "      <td>2014Q3</td>\n",
       "    </tr>\n",
       "    <tr>\n",
       "      <th>4</th>\n",
       "      <td>2014-11-01</td>\n",
       "      <td>Haryana</td>\n",
       "      <td>Insecticides</td>\n",
       "      <td>Palwal</td>\n",
       "      <td>monous</td>\n",
       "      <td>5188.59</td>\n",
       "      <td>2014Q3</td>\n",
       "    </tr>\n",
       "  </tbody>\n",
       "</table>\n",
       "</div>"
      ],
      "text/plain": [
       "    FIN_YEAR    STATE            FG DISTRICT  COMPANY    VALUE QUARTERS\n",
       "0 2014-11-01  Haryana  Insecticides   Rohtak  monous    675.00   2014Q3\n",
       "1 2014-11-01  Haryana  Insecticides   Rewari  monous     73.71   2014Q3\n",
       "2 2014-11-01  Haryana  Insecticides  Gurgaon  monous    405.00   2014Q3\n",
       "3 2014-11-01  Haryana  Insecticides    Mewat  monous   1188.00   2014Q3\n",
       "4 2014-11-01  Haryana  Insecticides   Palwal  monous   5188.59   2014Q3"
      ]
     },
     "execution_count": 19,
     "metadata": {},
     "output_type": "execute_result"
    }
   ],
   "source": [
    "df_sales.head()"
   ]
  },
  {
   "cell_type": "code",
   "execution_count": 20,
   "id": "d7478136",
   "metadata": {},
   "outputs": [],
   "source": [
    "sale_data= df_sales"
   ]
  },
  {
   "cell_type": "code",
   "execution_count": 21,
   "id": "01f734e2",
   "metadata": {},
   "outputs": [],
   "source": [
    "#df_sales.set_index('QUARTERS', inplace=True)"
   ]
  },
  {
   "cell_type": "code",
   "execution_count": 22,
   "id": "c03ef448",
   "metadata": {},
   "outputs": [
    {
     "data": {
      "text/html": [
       "<div>\n",
       "<style scoped>\n",
       "    .dataframe tbody tr th:only-of-type {\n",
       "        vertical-align: middle;\n",
       "    }\n",
       "\n",
       "    .dataframe tbody tr th {\n",
       "        vertical-align: top;\n",
       "    }\n",
       "\n",
       "    .dataframe thead th {\n",
       "        text-align: right;\n",
       "    }\n",
       "</style>\n",
       "<table border=\"1\" class=\"dataframe\">\n",
       "  <thead>\n",
       "    <tr style=\"text-align: right;\">\n",
       "      <th></th>\n",
       "      <th>STATE</th>\n",
       "      <th>VALUE</th>\n",
       "    </tr>\n",
       "  </thead>\n",
       "  <tbody>\n",
       "    <tr>\n",
       "      <th>0</th>\n",
       "      <td>Haryana</td>\n",
       "      <td>28004513.0</td>\n",
       "    </tr>\n",
       "    <tr>\n",
       "      <th>1</th>\n",
       "      <td>Himachal Pradesh</td>\n",
       "      <td>1109632.0</td>\n",
       "    </tr>\n",
       "    <tr>\n",
       "      <th>2</th>\n",
       "      <td>Punjab</td>\n",
       "      <td>38632144.0</td>\n",
       "    </tr>\n",
       "    <tr>\n",
       "      <th>3</th>\n",
       "      <td>Uttar Pradesh</td>\n",
       "      <td>90327653.0</td>\n",
       "    </tr>\n",
       "    <tr>\n",
       "      <th>4</th>\n",
       "      <td>Uttarakhand</td>\n",
       "      <td>4152091.0</td>\n",
       "    </tr>\n",
       "  </tbody>\n",
       "</table>\n",
       "</div>"
      ],
      "text/plain": [
       "              STATE       VALUE\n",
       "0           Haryana  28004513.0\n",
       "1  Himachal Pradesh   1109632.0\n",
       "2            Punjab  38632144.0\n",
       "3     Uttar Pradesh  90327653.0\n",
       "4       Uttarakhand   4152091.0"
      ]
     },
     "execution_count": 22,
     "metadata": {},
     "output_type": "execute_result"
    }
   ],
   "source": [
    "df1=df_sales.groupby('STATE').sum()['VALUE'].reset_index()\n",
    "df1.round()"
   ]
  },
  {
   "cell_type": "code",
   "execution_count": 23,
   "id": "2bbb6812",
   "metadata": {},
   "outputs": [
    {
     "data": {
      "image/png": "[encoded data removed]",
      "text/plain": [
       "<Figure size 432x288 with 1 Axes>"
      ]
     },
     "metadata": {
      "needs_background": "light"
     },
     "output_type": "display_data"
    },
    {
     "data": {
      "image/png": "[encoded data removed]",
      "text/plain": [
       "<Figure size 432x288 with 1 Axes>"
      ]
     },
     "metadata": {
      "needs_background": "light"
     },
     "output_type": "display_data"
    }
   ],
   "source": [
    "plt.plot(df1['STATE'], df1['VALUE'])\n",
    "plt.xlabel('STATE')\n",
    "plt.ylabel('VALUE')\n",
    "df1.plot.bar(x='STATE', y='VALUE')\n",
    "plt.show()"
   ]
  },
  {
   "cell_type": "code",
   "execution_count": 24,
   "id": "743393a4",
   "metadata": {},
   "outputs": [],
   "source": [
    "# checking Quarterly sales"
   ]
  },
  {
   "cell_type": "code",
   "execution_count": 25,
   "id": "b759ea40",
   "metadata": {},
   "outputs": [],
   "source": [
    "df2=df_sales.groupby('QUARTERS').sum()['VALUE'].round()"
   ]
  },
  {
   "cell_type": "code",
   "execution_count": 26,
   "id": "53a047e7",
   "metadata": {},
   "outputs": [
    {
     "data": {
      "text/plain": [
       "<AxesSubplot:xlabel='QUARTERS'>"
      ]
     },
     "execution_count": 26,
     "metadata": {},
     "output_type": "execute_result"
    },
    {
     "data": {
      "image/png": "[encoded data removed]",
      "text/plain": [
       "<Figure size 432x288 with 1 Axes>"
      ]
     },
     "metadata": {
      "needs_background": "light"
     },
     "output_type": "display_data"
    }
   ],
   "source": [
    "df2.plot.bar(x='QUARTERS', y='VALUE')"
   ]
  },
  {
   "cell_type": "code",
   "execution_count": 27,
   "id": "999f0e8f",
   "metadata": {},
   "outputs": [
    {
     "data": {
      "text/plain": [
       "<AxesSubplot:xlabel='QUARTERS'>"
      ]
     },
     "execution_count": 27,
     "metadata": {},
     "output_type": "execute_result"
    },
    {
     "data": {
      "image/png": "[encoded data removed]",
      "text/plain": [
       "<Figure size 864x360 with 1 Axes>"
      ]
     },
     "metadata": {
      "needs_background": "light"
     },
     "output_type": "display_data"
    }
   ],
   "source": [
    "# checking most sold chemical in different quarters\n",
    "DF= pd.crosstab(df_sales.QUARTERS, df_sales.FG)\n",
    "DF.plot.bar(figsize=(12,5))"
   ]
  },
  {
   "cell_type": "code",
   "execution_count": 28,
   "id": "1b26d95e",
   "metadata": {},
   "outputs": [
    {
     "data": {
      "text/plain": [
       "<AxesSubplot:xlabel='QUARTERS'>"
      ]
     },
     "execution_count": 28,
     "metadata": {},
     "output_type": "execute_result"
    },
    {
     "data": {
      "image/png": "[encoded data removed]",
      "text/plain": [
       "<Figure size 864x360 with 1 Axes>"
      ]
     },
     "metadata": {
      "needs_background": "light"
     },
     "output_type": "display_data"
    }
   ],
   "source": [
    "# checking State level sales chemical sales in different Quarters\n",
    "DF1= pd.crosstab(df_sales.QUARTERS, df_sales.STATE)\n",
    "DF1.plot.bar(figsize=(12,5))"
   ]
  },
  {
   "cell_type": "code",
   "execution_count": 29,
   "id": "800ded58",
   "metadata": {},
   "outputs": [],
   "source": [
    "# checking the ABC Manufacturing sales with FG Value"
   ]
  },
  {
   "cell_type": "code",
   "execution_count": 30,
   "id": "8843572a",
   "metadata": {},
   "outputs": [],
   "source": [
    "df3= (df_sales['COMPANY']=='ABC Manufacturing')"
   ]
  },
  {
   "cell_type": "code",
   "execution_count": 31,
   "id": "f4516edd",
   "metadata": {},
   "outputs": [
    {
     "data": {
      "image/png": "[encoded data removed]",
      "text/plain": [
       "<Figure size 432x288 with 1 Axes>"
      ]
     },
     "metadata": {
      "needs_background": "light"
     },
     "output_type": "display_data"
    }
   ],
   "source": [
    "df4=df_sales[df3].groupby('FG').sum(['VALUE']).round()\n",
    "df4.plot.bar();"
   ]
  },
  {
   "cell_type": "code",
   "execution_count": 32,
   "id": "71d07907",
   "metadata": {},
   "outputs": [],
   "source": [
    "cols=['STATE','FG', 'DISTRICT', 'COMPANY', 'QUARTERS']\n",
    "nums=['FIN_YEAR','VALUE']"
   ]
  },
  {
   "cell_type": "code",
   "execution_count": 33,
   "id": "e230455f",
   "metadata": {},
   "outputs": [
    {
     "data": {
      "text/html": [
       "<div>\n",
       "<style scoped>\n",
       "    .dataframe tbody tr th:only-of-type {\n",
       "        vertical-align: middle;\n",
       "    }\n",
       "\n",
       "    .dataframe tbody tr th {\n",
       "        vertical-align: top;\n",
       "    }\n",
       "\n",
       "    .dataframe thead th {\n",
       "        text-align: right;\n",
       "    }\n",
       "</style>\n",
       "<table border=\"1\" class=\"dataframe\">\n",
       "  <thead>\n",
       "    <tr style=\"text-align: right;\">\n",
       "      <th></th>\n",
       "      <th>FIN_YEAR</th>\n",
       "      <th>STATE</th>\n",
       "      <th>FG</th>\n",
       "      <th>DISTRICT</th>\n",
       "      <th>COMPANY</th>\n",
       "      <th>VALUE</th>\n",
       "      <th>QUARTERS</th>\n",
       "    </tr>\n",
       "  </thead>\n",
       "  <tbody>\n",
       "    <tr>\n",
       "      <th>0</th>\n",
       "      <td>2014-11-01</td>\n",
       "      <td>Haryana</td>\n",
       "      <td>Insecticides</td>\n",
       "      <td>Rohtak</td>\n",
       "      <td>monous</td>\n",
       "      <td>675.00</td>\n",
       "      <td>2014Q3</td>\n",
       "    </tr>\n",
       "    <tr>\n",
       "      <th>1</th>\n",
       "      <td>2014-11-01</td>\n",
       "      <td>Haryana</td>\n",
       "      <td>Insecticides</td>\n",
       "      <td>Rewari</td>\n",
       "      <td>monous</td>\n",
       "      <td>73.71</td>\n",
       "      <td>2014Q3</td>\n",
       "    </tr>\n",
       "    <tr>\n",
       "      <th>2</th>\n",
       "      <td>2014-11-01</td>\n",
       "      <td>Haryana</td>\n",
       "      <td>Insecticides</td>\n",
       "      <td>Gurgaon</td>\n",
       "      <td>monous</td>\n",
       "      <td>405.00</td>\n",
       "      <td>2014Q3</td>\n",
       "    </tr>\n",
       "    <tr>\n",
       "      <th>3</th>\n",
       "      <td>2014-11-01</td>\n",
       "      <td>Haryana</td>\n",
       "      <td>Insecticides</td>\n",
       "      <td>Mewat</td>\n",
       "      <td>monous</td>\n",
       "      <td>1188.00</td>\n",
       "      <td>2014Q3</td>\n",
       "    </tr>\n",
       "    <tr>\n",
       "      <th>4</th>\n",
       "      <td>2014-11-01</td>\n",
       "      <td>Haryana</td>\n",
       "      <td>Insecticides</td>\n",
       "      <td>Palwal</td>\n",
       "      <td>monous</td>\n",
       "      <td>5188.59</td>\n",
       "      <td>2014Q3</td>\n",
       "    </tr>\n",
       "  </tbody>\n",
       "</table>\n",
       "</div>"
      ],
      "text/plain": [
       "    FIN_YEAR    STATE            FG DISTRICT  COMPANY    VALUE QUARTERS\n",
       "0 2014-11-01  Haryana  Insecticides   Rohtak  monous    675.00   2014Q3\n",
       "1 2014-11-01  Haryana  Insecticides   Rewari  monous     73.71   2014Q3\n",
       "2 2014-11-01  Haryana  Insecticides  Gurgaon  monous    405.00   2014Q3\n",
       "3 2014-11-01  Haryana  Insecticides    Mewat  monous   1188.00   2014Q3\n",
       "4 2014-11-01  Haryana  Insecticides   Palwal  monous   5188.59   2014Q3"
      ]
     },
     "execution_count": 33,
     "metadata": {},
     "output_type": "execute_result"
    }
   ],
   "source": [
    "df_sales.head()"
   ]
  },
  {
   "cell_type": "code",
   "execution_count": 34,
   "id": "30597e04",
   "metadata": {},
   "outputs": [],
   "source": [
    "df_sales.set_index('FIN_YEAR', inplace= True)"
   ]
  },
  {
   "cell_type": "code",
   "execution_count": 35,
   "id": "1258cb8d",
   "metadata": {},
   "outputs": [],
   "source": [
    "data=df_sales.groupby('QUARTERS')[\"VALUE\"].sum().reset_index().round()"
   ]
  },
  {
   "cell_type": "code",
   "execution_count": 36,
   "id": "3820bcd6",
   "metadata": {},
   "outputs": [
    {
     "data": {
      "text/html": [
       "<div>\n",
       "<style scoped>\n",
       "    .dataframe tbody tr th:only-of-type {\n",
       "        vertical-align: middle;\n",
       "    }\n",
       "\n",
       "    .dataframe tbody tr th {\n",
       "        vertical-align: top;\n",
       "    }\n",
       "\n",
       "    .dataframe thead th {\n",
       "        text-align: right;\n",
       "    }\n",
       "</style>\n",
       "<table border=\"1\" class=\"dataframe\">\n",
       "  <thead>\n",
       "    <tr style=\"text-align: right;\">\n",
       "      <th></th>\n",
       "      <th>STATE</th>\n",
       "      <th>FG</th>\n",
       "      <th>DISTRICT</th>\n",
       "      <th>COMPANY</th>\n",
       "      <th>VALUE</th>\n",
       "      <th>QUARTERS</th>\n",
       "    </tr>\n",
       "    <tr>\n",
       "      <th>FIN_YEAR</th>\n",
       "      <th></th>\n",
       "      <th></th>\n",
       "      <th></th>\n",
       "      <th></th>\n",
       "      <th></th>\n",
       "      <th></th>\n",
       "    </tr>\n",
       "  </thead>\n",
       "  <tbody>\n",
       "    <tr>\n",
       "      <th>2014-11-01</th>\n",
       "      <td>Haryana</td>\n",
       "      <td>Insecticides</td>\n",
       "      <td>Rohtak</td>\n",
       "      <td>monous</td>\n",
       "      <td>675.00</td>\n",
       "      <td>2014Q3</td>\n",
       "    </tr>\n",
       "    <tr>\n",
       "      <th>2014-11-01</th>\n",
       "      <td>Haryana</td>\n",
       "      <td>Insecticides</td>\n",
       "      <td>Rewari</td>\n",
       "      <td>monous</td>\n",
       "      <td>73.71</td>\n",
       "      <td>2014Q3</td>\n",
       "    </tr>\n",
       "    <tr>\n",
       "      <th>2014-11-01</th>\n",
       "      <td>Haryana</td>\n",
       "      <td>Insecticides</td>\n",
       "      <td>Gurgaon</td>\n",
       "      <td>monous</td>\n",
       "      <td>405.00</td>\n",
       "      <td>2014Q3</td>\n",
       "    </tr>\n",
       "    <tr>\n",
       "      <th>2014-11-01</th>\n",
       "      <td>Haryana</td>\n",
       "      <td>Insecticides</td>\n",
       "      <td>Mewat</td>\n",
       "      <td>monous</td>\n",
       "      <td>1188.00</td>\n",
       "      <td>2014Q3</td>\n",
       "    </tr>\n",
       "    <tr>\n",
       "      <th>2014-11-01</th>\n",
       "      <td>Haryana</td>\n",
       "      <td>Insecticides</td>\n",
       "      <td>Palwal</td>\n",
       "      <td>monous</td>\n",
       "      <td>5188.59</td>\n",
       "      <td>2014Q3</td>\n",
       "    </tr>\n",
       "  </tbody>\n",
       "</table>\n",
       "</div>"
      ],
      "text/plain": [
       "              STATE            FG DISTRICT  COMPANY    VALUE QUARTERS\n",
       "FIN_YEAR                                                             \n",
       "2014-11-01  Haryana  Insecticides   Rohtak  monous    675.00   2014Q3\n",
       "2014-11-01  Haryana  Insecticides   Rewari  monous     73.71   2014Q3\n",
       "2014-11-01  Haryana  Insecticides  Gurgaon  monous    405.00   2014Q3\n",
       "2014-11-01  Haryana  Insecticides    Mewat  monous   1188.00   2014Q3\n",
       "2014-11-01  Haryana  Insecticides   Palwal  monous   5188.59   2014Q3"
      ]
     },
     "execution_count": 36,
     "metadata": {},
     "output_type": "execute_result"
    }
   ],
   "source": [
    "df_sales.head()"
   ]
  },
  {
   "cell_type": "code",
   "execution_count": 37,
   "id": "1e5ff397",
   "metadata": {},
   "outputs": [
    {
     "data": {
      "text/html": [
       "<div>\n",
       "<style scoped>\n",
       "    .dataframe tbody tr th:only-of-type {\n",
       "        vertical-align: middle;\n",
       "    }\n",
       "\n",
       "    .dataframe tbody tr th {\n",
       "        vertical-align: top;\n",
       "    }\n",
       "\n",
       "    .dataframe thead th {\n",
       "        text-align: right;\n",
       "    }\n",
       "</style>\n",
       "<table border=\"1\" class=\"dataframe\">\n",
       "  <thead>\n",
       "    <tr style=\"text-align: right;\">\n",
       "      <th></th>\n",
       "      <th>QUARTERS</th>\n",
       "      <th>VALUE</th>\n",
       "    </tr>\n",
       "  </thead>\n",
       "  <tbody>\n",
       "    <tr>\n",
       "      <th>0</th>\n",
       "      <td>2013Q4</td>\n",
       "      <td>10350463.0</td>\n",
       "    </tr>\n",
       "    <tr>\n",
       "      <th>1</th>\n",
       "      <td>2014Q1</td>\n",
       "      <td>7470334.0</td>\n",
       "    </tr>\n",
       "    <tr>\n",
       "      <th>2</th>\n",
       "      <td>2014Q2</td>\n",
       "      <td>10047232.0</td>\n",
       "    </tr>\n",
       "    <tr>\n",
       "      <th>3</th>\n",
       "      <td>2014Q3</td>\n",
       "      <td>13266106.0</td>\n",
       "    </tr>\n",
       "    <tr>\n",
       "      <th>4</th>\n",
       "      <td>2014Q4</td>\n",
       "      <td>10261207.0</td>\n",
       "    </tr>\n",
       "  </tbody>\n",
       "</table>\n",
       "</div>"
      ],
      "text/plain": [
       "  QUARTERS       VALUE\n",
       "0   2013Q4  10350463.0\n",
       "1   2014Q1   7470334.0\n",
       "2   2014Q2  10047232.0\n",
       "3   2014Q3  13266106.0\n",
       "4   2014Q4  10261207.0"
      ]
     },
     "execution_count": 37,
     "metadata": {},
     "output_type": "execute_result"
    }
   ],
   "source": [
    "data.head()"
   ]
  },
  {
   "cell_type": "code",
   "execution_count": 38,
   "id": "5eed84cf",
   "metadata": {},
   "outputs": [],
   "source": [
    "data['QUARTERS']=pd.to_datetime(data['QUARTERS'])"
   ]
  },
  {
   "cell_type": "code",
   "execution_count": 39,
   "id": "387c31a7",
   "metadata": {},
   "outputs": [
    {
     "name": "stdout",
     "output_type": "stream",
     "text": [
      "<class 'pandas.core.frame.DataFrame'>\n",
      "RangeIndex: 16 entries, 0 to 15\n",
      "Data columns (total 2 columns):\n",
      " #   Column    Non-Null Count  Dtype         \n",
      "---  ------    --------------  -----         \n",
      " 0   QUARTERS  16 non-null     datetime64[ns]\n",
      " 1   VALUE     16 non-null     float64       \n",
      "dtypes: datetime64[ns](1), float64(1)\n",
      "memory usage: 384.0 bytes\n"
     ]
    }
   ],
   "source": [
    "data.info()"
   ]
  },
  {
   "cell_type": "code",
   "execution_count": 40,
   "id": "c17dde5b",
   "metadata": {},
   "outputs": [],
   "source": [
    "data.set_index('QUARTERS', inplace= True)"
   ]
  },
  {
   "cell_type": "code",
   "execution_count": 41,
   "id": "10f61f07",
   "metadata": {},
   "outputs": [
    {
     "data": {
      "image/png": "[encoded data removed]",
      "text/plain": [
       "<Figure size 864x360 with 1 Axes>"
      ]
     },
     "metadata": {
      "needs_background": "light"
     },
     "output_type": "display_data"
    }
   ],
   "source": [
    "data.plot(figsize=(12,5));"
   ]
  },
  {
   "cell_type": "code",
   "execution_count": 42,
   "id": "0298f350",
   "metadata": {},
   "outputs": [],
   "source": [
    "from statsmodels.tsa.seasonal import seasonal_decompose\n",
    "from pandas import Series\n",
    "from statsmodels.tsa.stattools import adfuller"
   ]
  },
  {
   "cell_type": "code",
   "execution_count": 43,
   "id": "e5ca6c0b",
   "metadata": {},
   "outputs": [
    {
     "name": "stdout",
     "output_type": "stream",
     "text": [
      "P value: 0.000313\n",
      "As P value is less than 0.05, so we are rejectiong null hypothesis, that means data is sationary\n"
     ]
    }
   ],
   "source": [
    "#checking the stationary\n",
    "#H0- Data is not stationary\n",
    "#H1- Data is sationary\n",
    "result=adfuller(data)\n",
    "print('P value: %f' % result[1])\n",
    "print('As P value is less than 0.05, so we are rejectiong null hypothesis, that means data is sationary')"
   ]
  },
  {
   "cell_type": "code",
   "execution_count": 44,
   "id": "58e98054",
   "metadata": {},
   "outputs": [],
   "source": [
    "# Now decomposing the trend, seasonality & Residual in our data"
   ]
  },
  {
   "cell_type": "code",
   "execution_count": 45,
   "id": "35c1cbd4",
   "metadata": {},
   "outputs": [],
   "source": [
    "decomposition= seasonal_decompose(data)"
   ]
  },
  {
   "cell_type": "code",
   "execution_count": 46,
   "id": "c663d6ef",
   "metadata": {},
   "outputs": [
    {
     "data": {
      "text/plain": [
       "QUARTERS\n",
       "2013-10-01           NaN\n",
       "2014-01-01           NaN\n",
       "2014-04-01    10272377.0\n",
       "2014-07-01    10464288.0\n",
       "2014-10-01    10840154.0\n",
       "2015-01-01    11009516.0\n",
       "2015-04-01    10876768.0\n",
       "2015-07-01    10514768.0\n",
       "2015-10-01    10198070.0\n",
       "2016-01-01    10082127.0\n",
       "2016-04-01     9292687.0\n",
       "2016-07-01     8770470.0\n",
       "2016-10-01     8894714.0\n",
       "2017-01-01     9000181.0\n",
       "2017-04-01           NaN\n",
       "2017-07-01           NaN\n",
       "Name: trend, dtype: float64"
      ]
     },
     "execution_count": 46,
     "metadata": {},
     "output_type": "execute_result"
    }
   ],
   "source": [
    "decomposition.trend.round()"
   ]
  },
  {
   "cell_type": "code",
   "execution_count": 47,
   "id": "557c8d8e",
   "metadata": {},
   "outputs": [
    {
     "data": {
      "text/plain": [
       "QUARTERS\n",
       "2013-10-01   -2393195.0\n",
       "2014-01-01   -1516328.0\n",
       "2014-04-01     630447.0\n",
       "2014-07-01    3279076.0\n",
       "2014-10-01   -2393195.0\n",
       "2015-01-01   -1516328.0\n",
       "2015-04-01     630447.0\n",
       "2015-07-01    3279076.0\n",
       "2015-10-01   -2393195.0\n",
       "2016-01-01   -1516328.0\n",
       "2016-04-01     630447.0\n",
       "2016-07-01    3279076.0\n",
       "2016-10-01   -2393195.0\n",
       "2017-01-01   -1516328.0\n",
       "2017-04-01     630447.0\n",
       "2017-07-01    3279076.0\n",
       "Name: seasonal, dtype: float64"
      ]
     },
     "execution_count": 47,
     "metadata": {},
     "output_type": "execute_result"
    }
   ],
   "source": [
    "decomposition.seasonal.round()"
   ]
  },
  {
   "cell_type": "code",
   "execution_count": 48,
   "id": "704194f8",
   "metadata": {},
   "outputs": [
    {
     "data": {
      "text/plain": [
       "QUARTERS\n",
       "2013-10-01          NaN\n",
       "2014-01-01          NaN\n",
       "2014-04-01    -855592.0\n",
       "2014-07-01    -477258.0\n",
       "2014-10-01    1814249.0\n",
       "2015-01-01    -398306.0\n",
       "2015-04-01     -77611.0\n",
       "2015-07-01    -555209.0\n",
       "2015-10-01    1421817.0\n",
       "2016-01-01   -1332401.0\n",
       "2016-04-01     834374.0\n",
       "2016-07-01     933638.0\n",
       "2016-10-01   -3334894.0\n",
       "2017-01-01    1631877.0\n",
       "2017-04-01          NaN\n",
       "2017-07-01          NaN\n",
       "Name: resid, dtype: float64"
      ]
     },
     "execution_count": 48,
     "metadata": {},
     "output_type": "execute_result"
    }
   ],
   "source": [
    "decomposition.resid.round()"
   ]
  },
  {
   "cell_type": "code",
   "execution_count": 49,
   "id": "a56f29e1",
   "metadata": {},
   "outputs": [
    {
     "data": {
      "image/png": "[encoded data removed]",
      "text/plain": [
       "<Figure size 432x288 with 1 Axes>"
      ]
     },
     "metadata": {
      "needs_background": "light"
     },
     "output_type": "display_data"
    },
    {
     "data": {
      "image/png": "[encoded data removed]",
      "text/plain": [
       "<Figure size 432x288 with 1 Axes>"
      ]
     },
     "metadata": {
      "needs_background": "light"
     },
     "output_type": "display_data"
    },
    {
     "data": {
      "image/png": "[encoded data removed]",
      "text/plain": [
       "<Figure size 432x288 with 1 Axes>"
      ]
     },
     "metadata": {
      "needs_background": "light"
     },
     "output_type": "display_data"
    },
    {
     "data": {
      "text/plain": [
       "<matplotlib.legend.Legend at 0x191f0e864c0>"
      ]
     },
     "execution_count": 49,
     "metadata": {},
     "output_type": "execute_result"
    },
    {
     "data": {
      "image/png": "[encoded data removed]",
      "text/plain": [
       "<Figure size 432x288 with 1 Axes>"
      ]
     },
     "metadata": {
      "needs_background": "light"
     },
     "output_type": "display_data"
    }
   ],
   "source": [
    "plt.plot(data, label='Original')\n",
    "plt.legend(loc='best')\n",
    "\n",
    "trend=decomposition.trend\n",
    "plt.show()\n",
    "plt.plot(trend, label='Trend')\n",
    "plt.legend(loc='best')\n",
    "\n",
    "seasonal=decomposition.seasonal\n",
    "plt.show()\n",
    "plt.plot(seasonal, label='Seasonal')\n",
    "plt.legend(loc='best')\n",
    "\n",
    "residual=decomposition.resid\n",
    "plt.show()\n",
    "plt.plot(residual, label='Residual')\n",
    "plt.legend(loc='best')"
   ]
  },
  {
   "cell_type": "code",
   "execution_count": 50,
   "id": "1d682e7b",
   "metadata": {},
   "outputs": [],
   "source": [
    "# ARIMA Model\n",
    "import itertools"
   ]
  },
  {
   "cell_type": "code",
   "execution_count": 51,
   "id": "f745bd0e",
   "metadata": {},
   "outputs": [],
   "source": [
    "p = d = q = range(0,2)"
   ]
  },
  {
   "cell_type": "code",
   "execution_count": 52,
   "id": "85155e70",
   "metadata": {},
   "outputs": [
    {
     "name": "stdout",
     "output_type": "stream",
     "text": [
      "SARIMAX:(0, 0, 1)x(0, 1, 0, 4)\n"
     ]
    }
   ],
   "source": [
    "pdq=list(itertools.product(p,d,q))\n",
    "seasonal_pdq= [(x[0], x[1], x[2], 4) for x in list(itertools.product(p,d,q))]\n",
    "print('SARIMAX:{}x{}'.format(pdq[1], seasonal_pdq[2]))"
   ]
  },
  {
   "cell_type": "code",
   "execution_count": 53,
   "id": "7e9221c0",
   "metadata": {},
   "outputs": [
    {
     "data": {
      "text/plain": [
       "[(0, 0, 0, 4),\n",
       " (0, 0, 1, 4),\n",
       " (0, 1, 0, 4),\n",
       " (0, 1, 1, 4),\n",
       " (1, 0, 0, 4),\n",
       " (1, 0, 1, 4),\n",
       " (1, 1, 0, 4),\n",
       " (1, 1, 1, 4)]"
      ]
     },
     "execution_count": 53,
     "metadata": {},
     "output_type": "execute_result"
    }
   ],
   "source": [
    "seasonal_pdq"
   ]
  },
  {
   "cell_type": "code",
   "execution_count": 54,
   "id": "a16f56ba",
   "metadata": {},
   "outputs": [],
   "source": [
    "# Parameter selection using grid search            "
   ]
  },
  {
   "cell_type": "code",
   "execution_count": 55,
   "id": "1b1bcd37",
   "metadata": {},
   "outputs": [],
   "source": [
    "#SARIMAX MODEL"
   ]
  },
  {
   "cell_type": "code",
   "execution_count": 56,
   "id": "839a9d79",
   "metadata": {},
   "outputs": [
    {
     "name": "stderr",
     "output_type": "stream",
     "text": [
      "C:\\Users\\pc\\anaconda3\\lib\\site-packages\\statsmodels\\tsa\\base\\tsa_model.py:524: ValueWarning: No frequency information was provided, so inferred frequency QS-OCT will be used.\n",
      "  warnings.warn('No frequency information was'\n",
      "C:\\Users\\pc\\anaconda3\\lib\\site-packages\\statsmodels\\tsa\\base\\tsa_model.py:524: ValueWarning: No frequency information was provided, so inferred frequency QS-OCT will be used.\n",
      "  warnings.warn('No frequency information was'\n"
     ]
    },
    {
     "name": "stdout",
     "output_type": "stream",
     "text": [
      "ARIMA(0, 0, 0)x(0, 0, 0, 4)4-AIC:564.7335476512555\n",
      "ARIMA(0, 0, 0)x(0, 0, 1, 4)4-AIC:555.2262892870398\n"
     ]
    },
    {
     "name": "stderr",
     "output_type": "stream",
     "text": [
      "C:\\Users\\pc\\anaconda3\\lib\\site-packages\\statsmodels\\tsa\\base\\tsa_model.py:524: ValueWarning: No frequency information was provided, so inferred frequency QS-OCT will be used.\n",
      "  warnings.warn('No frequency information was'\n",
      "C:\\Users\\pc\\anaconda3\\lib\\site-packages\\statsmodels\\tsa\\base\\tsa_model.py:524: ValueWarning: No frequency information was provided, so inferred frequency QS-OCT will be used.\n",
      "  warnings.warn('No frequency information was'\n",
      "C:\\Users\\pc\\anaconda3\\lib\\site-packages\\statsmodels\\tsa\\statespace\\sarimax.py:1009: UserWarning: Non-invertible starting seasonal moving average Using zeros as starting parameters.\n",
      "  warn('Non-invertible starting seasonal moving average'\n",
      "C:\\Users\\pc\\anaconda3\\lib\\site-packages\\statsmodels\\tsa\\base\\tsa_model.py:524: ValueWarning: No frequency information was provided, so inferred frequency QS-OCT will be used.\n",
      "  warnings.warn('No frequency information was'\n",
      "C:\\Users\\pc\\anaconda3\\lib\\site-packages\\statsmodels\\tsa\\base\\tsa_model.py:524: ValueWarning: No frequency information was provided, so inferred frequency QS-OCT will be used.\n",
      "  warnings.warn('No frequency information was'\n"
     ]
    },
    {
     "name": "stdout",
     "output_type": "stream",
     "text": [
      "ARIMA(0, 0, 0)x(0, 1, 0, 4)4-AIC:386.1495694960638\n",
      "ARIMA(0, 0, 0)x(0, 1, 1, 4)4-AIC:387.31107143672375\n"
     ]
    },
    {
     "name": "stderr",
     "output_type": "stream",
     "text": [
      "C:\\Users\\pc\\anaconda3\\lib\\site-packages\\statsmodels\\tsa\\base\\tsa_model.py:524: ValueWarning: No frequency information was provided, so inferred frequency QS-OCT will be used.\n",
      "  warnings.warn('No frequency information was'\n",
      "C:\\Users\\pc\\anaconda3\\lib\\site-packages\\statsmodels\\tsa\\base\\tsa_model.py:524: ValueWarning: No frequency information was provided, so inferred frequency QS-OCT will be used.\n",
      "  warnings.warn('No frequency information was'\n",
      "C:\\Users\\pc\\anaconda3\\lib\\site-packages\\statsmodels\\tsa\\statespace\\sarimax.py:866: UserWarning: Too few observations to estimate starting parameters for seasonal ARMA. All parameters except for variances will be set to zeros.\n",
      "  warn('Too few observations to estimate starting parameters%s.'\n",
      "C:\\Users\\pc\\anaconda3\\lib\\site-packages\\statsmodels\\tsa\\base\\tsa_model.py:524: ValueWarning: No frequency information was provided, so inferred frequency QS-OCT will be used.\n",
      "  warnings.warn('No frequency information was'\n",
      "C:\\Users\\pc\\anaconda3\\lib\\site-packages\\statsmodels\\tsa\\base\\tsa_model.py:524: ValueWarning: No frequency information was provided, so inferred frequency QS-OCT will be used.\n",
      "  warnings.warn('No frequency information was'\n"
     ]
    },
    {
     "name": "stdout",
     "output_type": "stream",
     "text": [
      "ARIMA(0, 0, 0)x(1, 0, 0, 4)4-AIC:528.0069570536491\n",
      "ARIMA(0, 0, 0)x(1, 0, 1, 4)4-AIC:530.0192169955792\n"
     ]
    },
    {
     "name": "stderr",
     "output_type": "stream",
     "text": [
      "C:\\Users\\pc\\anaconda3\\lib\\site-packages\\statsmodels\\tsa\\base\\tsa_model.py:524: ValueWarning: No frequency information was provided, so inferred frequency QS-OCT will be used.\n",
      "  warnings.warn('No frequency information was'\n",
      "C:\\Users\\pc\\anaconda3\\lib\\site-packages\\statsmodels\\tsa\\base\\tsa_model.py:524: ValueWarning: No frequency information was provided, so inferred frequency QS-OCT will be used.\n",
      "  warnings.warn('No frequency information was'\n",
      "C:\\Users\\pc\\anaconda3\\lib\\site-packages\\statsmodels\\tsa\\base\\tsa_model.py:524: ValueWarning: No frequency information was provided, so inferred frequency QS-OCT will be used.\n",
      "  warnings.warn('No frequency information was'\n",
      "C:\\Users\\pc\\anaconda3\\lib\\site-packages\\statsmodels\\tsa\\base\\tsa_model.py:524: ValueWarning: No frequency information was provided, so inferred frequency QS-OCT will be used.\n",
      "  warnings.warn('No frequency information was'\n"
     ]
    },
    {
     "name": "stdout",
     "output_type": "stream",
     "text": [
      "ARIMA(0, 0, 0)x(1, 1, 0, 4)4-AIC:387.9330015831061\n"
     ]
    },
    {
     "name": "stderr",
     "output_type": "stream",
     "text": [
      "C:\\Users\\pc\\anaconda3\\lib\\site-packages\\statsmodels\\tsa\\base\\tsa_model.py:524: ValueWarning: No frequency information was provided, so inferred frequency QS-OCT will be used.\n",
      "  warnings.warn('No frequency information was'\n",
      "C:\\Users\\pc\\anaconda3\\lib\\site-packages\\statsmodels\\tsa\\base\\tsa_model.py:524: ValueWarning: No frequency information was provided, so inferred frequency QS-OCT will be used.\n",
      "  warnings.warn('No frequency information was'\n"
     ]
    },
    {
     "name": "stdout",
     "output_type": "stream",
     "text": [
      "ARIMA(0, 0, 0)x(1, 1, 1, 4)4-AIC:389.1872169373515\n"
     ]
    },
    {
     "name": "stderr",
     "output_type": "stream",
     "text": [
      "C:\\Users\\pc\\anaconda3\\lib\\site-packages\\statsmodels\\tsa\\base\\tsa_model.py:524: ValueWarning: No frequency information was provided, so inferred frequency QS-OCT will be used.\n",
      "  warnings.warn('No frequency information was'\n",
      "C:\\Users\\pc\\anaconda3\\lib\\site-packages\\statsmodels\\tsa\\base\\tsa_model.py:524: ValueWarning: No frequency information was provided, so inferred frequency QS-OCT will be used.\n",
      "  warnings.warn('No frequency information was'\n"
     ]
    },
    {
     "name": "stdout",
     "output_type": "stream",
     "text": [
      "ARIMA(0, 0, 1)x(0, 0, 0, 4)4-AIC:558.908676206105\n",
      "ARIMA(0, 0, 1)x(0, 0, 1, 4)4-AIC:558.7246584363847\n"
     ]
    },
    {
     "name": "stderr",
     "output_type": "stream",
     "text": [
      "C:\\Users\\pc\\anaconda3\\lib\\site-packages\\statsmodels\\tsa\\base\\tsa_model.py:524: ValueWarning: No frequency information was provided, so inferred frequency QS-OCT will be used.\n",
      "  warnings.warn('No frequency information was'\n",
      "C:\\Users\\pc\\anaconda3\\lib\\site-packages\\statsmodels\\tsa\\base\\tsa_model.py:524: ValueWarning: No frequency information was provided, so inferred frequency QS-OCT will be used.\n",
      "  warnings.warn('No frequency information was'\n",
      "C:\\Users\\pc\\anaconda3\\lib\\site-packages\\statsmodels\\tsa\\base\\tsa_model.py:524: ValueWarning: No frequency information was provided, so inferred frequency QS-OCT will be used.\n",
      "  warnings.warn('No frequency information was'\n",
      "C:\\Users\\pc\\anaconda3\\lib\\site-packages\\statsmodels\\tsa\\base\\tsa_model.py:524: ValueWarning: No frequency information was provided, so inferred frequency QS-OCT will be used.\n",
      "  warnings.warn('No frequency information was'\n",
      "C:\\Users\\pc\\anaconda3\\lib\\site-packages\\statsmodels\\tsa\\base\\tsa_model.py:524: ValueWarning: No frequency information was provided, so inferred frequency QS-OCT will be used.\n",
      "  warnings.warn('No frequency information was'\n",
      "C:\\Users\\pc\\anaconda3\\lib\\site-packages\\statsmodels\\tsa\\base\\tsa_model.py:524: ValueWarning: No frequency information was provided, so inferred frequency QS-OCT will be used.\n",
      "  warnings.warn('No frequency information was'\n"
     ]
    },
    {
     "name": "stdout",
     "output_type": "stream",
     "text": [
      "ARIMA(0, 0, 1)x(0, 1, 0, 4)4-AIC:388.0223822017647\n",
      "ARIMA(0, 0, 1)x(0, 1, 1, 4)4-AIC:389.51312997670027\n"
     ]
    },
    {
     "name": "stderr",
     "output_type": "stream",
     "text": [
      "C:\\Users\\pc\\anaconda3\\lib\\site-packages\\statsmodels\\tsa\\base\\tsa_model.py:524: ValueWarning: No frequency information was provided, so inferred frequency QS-OCT will be used.\n",
      "  warnings.warn('No frequency information was'\n",
      "C:\\Users\\pc\\anaconda3\\lib\\site-packages\\statsmodels\\tsa\\base\\tsa_model.py:524: ValueWarning: No frequency information was provided, so inferred frequency QS-OCT will be used.\n",
      "  warnings.warn('No frequency information was'\n"
     ]
    },
    {
     "name": "stdout",
     "output_type": "stream",
     "text": [
      "ARIMA(0, 0, 1)x(1, 0, 0, 4)4-AIC:557.6019470454463\n",
      "ARIMA(0, 0, 1)x(1, 0, 1, 4)4-AIC:559.5309773624182\n"
     ]
    },
    {
     "name": "stderr",
     "output_type": "stream",
     "text": [
      "C:\\Users\\pc\\anaconda3\\lib\\site-packages\\statsmodels\\tsa\\base\\tsa_model.py:524: ValueWarning: No frequency information was provided, so inferred frequency QS-OCT will be used.\n",
      "  warnings.warn('No frequency information was'\n",
      "C:\\Users\\pc\\anaconda3\\lib\\site-packages\\statsmodels\\tsa\\base\\tsa_model.py:524: ValueWarning: No frequency information was provided, so inferred frequency QS-OCT will be used.\n",
      "  warnings.warn('No frequency information was'\n",
      "C:\\Users\\pc\\anaconda3\\lib\\site-packages\\statsmodels\\tsa\\base\\tsa_model.py:524: ValueWarning: No frequency information was provided, so inferred frequency QS-OCT will be used.\n",
      "  warnings.warn('No frequency information was'\n",
      "C:\\Users\\pc\\anaconda3\\lib\\site-packages\\statsmodels\\tsa\\base\\tsa_model.py:524: ValueWarning: No frequency information was provided, so inferred frequency QS-OCT will be used.\n",
      "  warnings.warn('No frequency information was'\n",
      "C:\\Users\\pc\\anaconda3\\lib\\site-packages\\statsmodels\\tsa\\base\\tsa_model.py:524: ValueWarning: No frequency information was provided, so inferred frequency QS-OCT will be used.\n",
      "  warnings.warn('No frequency information was'\n",
      "C:\\Users\\pc\\anaconda3\\lib\\site-packages\\statsmodels\\tsa\\base\\tsa_model.py:524: ValueWarning: No frequency information was provided, so inferred frequency QS-OCT will be used.\n",
      "  warnings.warn('No frequency information was'\n"
     ]
    },
    {
     "name": "stdout",
     "output_type": "stream",
     "text": [
      "ARIMA(0, 0, 1)x(1, 1, 0, 4)4-AIC:389.6250665637135\n",
      "ARIMA(0, 0, 1)x(1, 1, 1, 4)4-AIC:391.31174043159086\n",
      "ARIMA(0, 1, 0)x(0, 0, 0, 4)4-AIC:500.5073608159132\n",
      "ARIMA(0, 1, 0)x(0, 0, 1, 4)4-AIC:501.8440637952937\n"
     ]
    },
    {
     "name": "stderr",
     "output_type": "stream",
     "text": [
      "C:\\Users\\pc\\anaconda3\\lib\\site-packages\\statsmodels\\tsa\\base\\tsa_model.py:524: ValueWarning: No frequency information was provided, so inferred frequency QS-OCT will be used.\n",
      "  warnings.warn('No frequency information was'\n",
      "C:\\Users\\pc\\anaconda3\\lib\\site-packages\\statsmodels\\tsa\\base\\tsa_model.py:524: ValueWarning: No frequency information was provided, so inferred frequency QS-OCT will be used.\n",
      "  warnings.warn('No frequency information was'\n",
      "C:\\Users\\pc\\anaconda3\\lib\\site-packages\\statsmodels\\tsa\\base\\tsa_model.py:524: ValueWarning: No frequency information was provided, so inferred frequency QS-OCT will be used.\n",
      "  warnings.warn('No frequency information was'\n",
      "C:\\Users\\pc\\anaconda3\\lib\\site-packages\\statsmodels\\tsa\\base\\tsa_model.py:524: ValueWarning: No frequency information was provided, so inferred frequency QS-OCT will be used.\n",
      "  warnings.warn('No frequency information was'\n",
      "C:\\Users\\pc\\anaconda3\\lib\\site-packages\\statsmodels\\tsa\\base\\tsa_model.py:524: ValueWarning: No frequency information was provided, so inferred frequency QS-OCT will be used.\n",
      "  warnings.warn('No frequency information was'\n",
      "C:\\Users\\pc\\anaconda3\\lib\\site-packages\\statsmodels\\tsa\\base\\tsa_model.py:524: ValueWarning: No frequency information was provided, so inferred frequency QS-OCT will be used.\n",
      "  warnings.warn('No frequency information was'\n"
     ]
    },
    {
     "name": "stdout",
     "output_type": "stream",
     "text": [
      "ARIMA(0, 1, 0)x(0, 1, 0, 4)4-AIC:364.2840662667712\n",
      "ARIMA(0, 1, 0)x(0, 1, 1, 4)4-AIC:365.45020607942683\n",
      "ARIMA(0, 1, 0)x(1, 0, 0, 4)4-AIC:502.4420593031016\n"
     ]
    },
    {
     "name": "stderr",
     "output_type": "stream",
     "text": [
      "C:\\Users\\pc\\anaconda3\\lib\\site-packages\\statsmodels\\tsa\\base\\tsa_model.py:524: ValueWarning: No frequency information was provided, so inferred frequency QS-OCT will be used.\n",
      "  warnings.warn('No frequency information was'\n",
      "C:\\Users\\pc\\anaconda3\\lib\\site-packages\\statsmodels\\tsa\\base\\tsa_model.py:524: ValueWarning: No frequency information was provided, so inferred frequency QS-OCT will be used.\n",
      "  warnings.warn('No frequency information was'\n",
      "C:\\Users\\pc\\anaconda3\\lib\\site-packages\\statsmodels\\tsa\\base\\tsa_model.py:524: ValueWarning: No frequency information was provided, so inferred frequency QS-OCT will be used.\n",
      "  warnings.warn('No frequency information was'\n",
      "C:\\Users\\pc\\anaconda3\\lib\\site-packages\\statsmodels\\tsa\\base\\tsa_model.py:524: ValueWarning: No frequency information was provided, so inferred frequency QS-OCT will be used.\n",
      "  warnings.warn('No frequency information was'\n",
      "C:\\Users\\pc\\anaconda3\\lib\\site-packages\\statsmodels\\tsa\\statespace\\sarimax.py:997: UserWarning: Non-stationary starting seasonal autoregressive Using zeros as starting parameters.\n",
      "  warn('Non-stationary starting seasonal autoregressive'\n",
      "C:\\Users\\pc\\anaconda3\\lib\\site-packages\\statsmodels\\tsa\\base\\tsa_model.py:524: ValueWarning: No frequency information was provided, so inferred frequency QS-OCT will be used.\n",
      "  warnings.warn('No frequency information was'\n",
      "C:\\Users\\pc\\anaconda3\\lib\\site-packages\\statsmodels\\tsa\\base\\tsa_model.py:524: ValueWarning: No frequency information was provided, so inferred frequency QS-OCT will be used.\n",
      "  warnings.warn('No frequency information was'\n"
     ]
    },
    {
     "name": "stdout",
     "output_type": "stream",
     "text": [
      "ARIMA(0, 1, 0)x(1, 0, 1, 4)4-AIC:504.3428353486983\n",
      "ARIMA(0, 1, 0)x(1, 1, 0, 4)4-AIC:366.076500478255\n"
     ]
    },
    {
     "name": "stderr",
     "output_type": "stream",
     "text": [
      "C:\\Users\\pc\\anaconda3\\lib\\site-packages\\statsmodels\\tsa\\base\\tsa_model.py:524: ValueWarning: No frequency information was provided, so inferred frequency QS-OCT will be used.\n",
      "  warnings.warn('No frequency information was'\n",
      "C:\\Users\\pc\\anaconda3\\lib\\site-packages\\statsmodels\\tsa\\base\\tsa_model.py:524: ValueWarning: No frequency information was provided, so inferred frequency QS-OCT will be used.\n",
      "  warnings.warn('No frequency information was'\n",
      "C:\\Users\\pc\\anaconda3\\lib\\site-packages\\statsmodels\\tsa\\base\\tsa_model.py:524: ValueWarning: No frequency information was provided, so inferred frequency QS-OCT will be used.\n",
      "  warnings.warn('No frequency information was'\n",
      "C:\\Users\\pc\\anaconda3\\lib\\site-packages\\statsmodels\\tsa\\base\\tsa_model.py:524: ValueWarning: No frequency information was provided, so inferred frequency QS-OCT will be used.\n",
      "  warnings.warn('No frequency information was'\n"
     ]
    },
    {
     "name": "stdout",
     "output_type": "stream",
     "text": [
      "ARIMA(0, 1, 0)x(1, 1, 1, 4)4-AIC:365.61629736744567\n",
      "ARIMA(0, 1, 1)x(0, 0, 0, 4)4-AIC:498.8875041791864\n",
      "ARIMA(0, 1, 1)x(0, 0, 1, 4)4-AIC:500.0704677321648\n"
     ]
    },
    {
     "name": "stderr",
     "output_type": "stream",
     "text": [
      "C:\\Users\\pc\\anaconda3\\lib\\site-packages\\statsmodels\\tsa\\base\\tsa_model.py:524: ValueWarning: No frequency information was provided, so inferred frequency QS-OCT will be used.\n",
      "  warnings.warn('No frequency information was'\n",
      "C:\\Users\\pc\\anaconda3\\lib\\site-packages\\statsmodels\\tsa\\base\\tsa_model.py:524: ValueWarning: No frequency information was provided, so inferred frequency QS-OCT will be used.\n",
      "  warnings.warn('No frequency information was'\n",
      "C:\\Users\\pc\\anaconda3\\lib\\site-packages\\statsmodels\\tsa\\statespace\\sarimax.py:978: UserWarning: Non-invertible starting MA parameters found. Using zeros as starting parameters.\n",
      "  warn('Non-invertible starting MA parameters found.'\n",
      "C:\\Users\\pc\\anaconda3\\lib\\site-packages\\statsmodels\\tsa\\base\\tsa_model.py:524: ValueWarning: No frequency information was provided, so inferred frequency QS-OCT will be used.\n",
      "  warnings.warn('No frequency information was'\n",
      "C:\\Users\\pc\\anaconda3\\lib\\site-packages\\statsmodels\\tsa\\base\\tsa_model.py:524: ValueWarning: No frequency information was provided, so inferred frequency QS-OCT will be used.\n",
      "  warnings.warn('No frequency information was'\n",
      "C:\\Users\\pc\\anaconda3\\lib\\site-packages\\statsmodels\\tsa\\base\\tsa_model.py:524: ValueWarning: No frequency information was provided, so inferred frequency QS-OCT will be used.\n",
      "  warnings.warn('No frequency information was'\n",
      "C:\\Users\\pc\\anaconda3\\lib\\site-packages\\statsmodels\\tsa\\base\\tsa_model.py:524: ValueWarning: No frequency information was provided, so inferred frequency QS-OCT will be used.\n",
      "  warnings.warn('No frequency information was'\n"
     ]
    },
    {
     "name": "stdout",
     "output_type": "stream",
     "text": [
      "ARIMA(0, 1, 1)x(0, 1, 0, 4)4-AIC:362.2690620914277\n",
      "ARIMA(0, 1, 1)x(0, 1, 1, 4)4-AIC:364.2191294792893\n"
     ]
    },
    {
     "name": "stderr",
     "output_type": "stream",
     "text": [
      "C:\\Users\\pc\\anaconda3\\lib\\site-packages\\statsmodels\\tsa\\base\\tsa_model.py:524: ValueWarning: No frequency information was provided, so inferred frequency QS-OCT will be used.\n",
      "  warnings.warn('No frequency information was'\n",
      "C:\\Users\\pc\\anaconda3\\lib\\site-packages\\statsmodels\\tsa\\base\\tsa_model.py:524: ValueWarning: No frequency information was provided, so inferred frequency QS-OCT will be used.\n",
      "  warnings.warn('No frequency information was'\n",
      "C:\\Users\\pc\\anaconda3\\lib\\site-packages\\statsmodels\\tsa\\base\\tsa_model.py:524: ValueWarning: No frequency information was provided, so inferred frequency QS-OCT will be used.\n",
      "  warnings.warn('No frequency information was'\n",
      "C:\\Users\\pc\\anaconda3\\lib\\site-packages\\statsmodels\\tsa\\base\\tsa_model.py:524: ValueWarning: No frequency information was provided, so inferred frequency QS-OCT will be used.\n",
      "  warnings.warn('No frequency information was'\n"
     ]
    },
    {
     "name": "stdout",
     "output_type": "stream",
     "text": [
      "ARIMA(0, 1, 1)x(1, 0, 0, 4)4-AIC:500.0603080833371\n",
      "ARIMA(0, 1, 1)x(1, 0, 1, 4)4-AIC:502.0222936245533\n"
     ]
    },
    {
     "name": "stderr",
     "output_type": "stream",
     "text": [
      "C:\\Users\\pc\\anaconda3\\lib\\site-packages\\statsmodels\\tsa\\base\\tsa_model.py:524: ValueWarning: No frequency information was provided, so inferred frequency QS-OCT will be used.\n",
      "  warnings.warn('No frequency information was'\n",
      "C:\\Users\\pc\\anaconda3\\lib\\site-packages\\statsmodels\\tsa\\base\\tsa_model.py:524: ValueWarning: No frequency information was provided, so inferred frequency QS-OCT will be used.\n",
      "  warnings.warn('No frequency information was'\n",
      "C:\\Users\\pc\\anaconda3\\lib\\site-packages\\statsmodels\\tsa\\base\\tsa_model.py:524: ValueWarning: No frequency information was provided, so inferred frequency QS-OCT will be used.\n",
      "  warnings.warn('No frequency information was'\n",
      "C:\\Users\\pc\\anaconda3\\lib\\site-packages\\statsmodels\\tsa\\base\\tsa_model.py:524: ValueWarning: No frequency information was provided, so inferred frequency QS-OCT will be used.\n",
      "  warnings.warn('No frequency information was'\n"
     ]
    },
    {
     "name": "stdout",
     "output_type": "stream",
     "text": [
      "ARIMA(0, 1, 1)x(1, 1, 0, 4)4-AIC:364.19050825929287\n"
     ]
    },
    {
     "name": "stderr",
     "output_type": "stream",
     "text": [
      "C:\\Users\\pc\\anaconda3\\lib\\site-packages\\statsmodels\\tsa\\base\\tsa_model.py:524: ValueWarning: No frequency information was provided, so inferred frequency QS-OCT will be used.\n",
      "  warnings.warn('No frequency information was'\n",
      "C:\\Users\\pc\\anaconda3\\lib\\site-packages\\statsmodels\\tsa\\base\\tsa_model.py:524: ValueWarning: No frequency information was provided, so inferred frequency QS-OCT will be used.\n",
      "  warnings.warn('No frequency information was'\n"
     ]
    },
    {
     "name": "stdout",
     "output_type": "stream",
     "text": [
      "ARIMA(0, 1, 1)x(1, 1, 1, 4)4-AIC:365.8563924297126\n",
      "ARIMA(1, 0, 0)x(0, 0, 0, 4)4-AIC:537.5074581252488\n"
     ]
    },
    {
     "name": "stderr",
     "output_type": "stream",
     "text": [
      "C:\\Users\\pc\\anaconda3\\lib\\site-packages\\statsmodels\\tsa\\base\\tsa_model.py:524: ValueWarning: No frequency information was provided, so inferred frequency QS-OCT will be used.\n",
      "  warnings.warn('No frequency information was'\n",
      "C:\\Users\\pc\\anaconda3\\lib\\site-packages\\statsmodels\\tsa\\base\\tsa_model.py:524: ValueWarning: No frequency information was provided, so inferred frequency QS-OCT will be used.\n",
      "  warnings.warn('No frequency information was'\n",
      "C:\\Users\\pc\\anaconda3\\lib\\site-packages\\statsmodels\\tsa\\base\\tsa_model.py:524: ValueWarning: No frequency information was provided, so inferred frequency QS-OCT will be used.\n",
      "  warnings.warn('No frequency information was'\n",
      "C:\\Users\\pc\\anaconda3\\lib\\site-packages\\statsmodels\\tsa\\base\\tsa_model.py:524: ValueWarning: No frequency information was provided, so inferred frequency QS-OCT will be used.\n",
      "  warnings.warn('No frequency information was'\n"
     ]
    },
    {
     "name": "stdout",
     "output_type": "stream",
     "text": [
      "ARIMA(1, 0, 0)x(0, 0, 1, 4)4-AIC:537.1301926423298\n",
      "ARIMA(1, 0, 0)x(0, 1, 0, 4)4-AIC:387.5549219167477\n"
     ]
    },
    {
     "name": "stderr",
     "output_type": "stream",
     "text": [
      "C:\\Users\\pc\\anaconda3\\lib\\site-packages\\statsmodels\\tsa\\base\\tsa_model.py:524: ValueWarning: No frequency information was provided, so inferred frequency QS-OCT will be used.\n",
      "  warnings.warn('No frequency information was'\n",
      "C:\\Users\\pc\\anaconda3\\lib\\site-packages\\statsmodels\\tsa\\base\\tsa_model.py:524: ValueWarning: No frequency information was provided, so inferred frequency QS-OCT will be used.\n",
      "  warnings.warn('No frequency information was'\n",
      "C:\\Users\\pc\\anaconda3\\lib\\site-packages\\statsmodels\\tsa\\base\\tsa_model.py:524: ValueWarning: No frequency information was provided, so inferred frequency QS-OCT will be used.\n",
      "  warnings.warn('No frequency information was'\n",
      "C:\\Users\\pc\\anaconda3\\lib\\site-packages\\statsmodels\\tsa\\base\\tsa_model.py:524: ValueWarning: No frequency information was provided, so inferred frequency QS-OCT will be used.\n",
      "  warnings.warn('No frequency information was'\n"
     ]
    },
    {
     "name": "stdout",
     "output_type": "stream",
     "text": [
      "ARIMA(1, 0, 0)x(0, 1, 1, 4)4-AIC:388.80527161353655\n",
      "ARIMA(1, 0, 0)x(1, 0, 0, 4)4-AIC:534.3406259068984\n"
     ]
    },
    {
     "name": "stderr",
     "output_type": "stream",
     "text": [
      "C:\\Users\\pc\\anaconda3\\lib\\site-packages\\statsmodels\\tsa\\base\\tsa_model.py:524: ValueWarning: No frequency information was provided, so inferred frequency QS-OCT will be used.\n",
      "  warnings.warn('No frequency information was'\n",
      "C:\\Users\\pc\\anaconda3\\lib\\site-packages\\statsmodels\\tsa\\base\\tsa_model.py:524: ValueWarning: No frequency information was provided, so inferred frequency QS-OCT will be used.\n",
      "  warnings.warn('No frequency information was'\n",
      "C:\\Users\\pc\\anaconda3\\lib\\site-packages\\statsmodels\\tsa\\base\\tsa_model.py:524: ValueWarning: No frequency information was provided, so inferred frequency QS-OCT will be used.\n",
      "  warnings.warn('No frequency information was'\n",
      "C:\\Users\\pc\\anaconda3\\lib\\site-packages\\statsmodels\\tsa\\base\\tsa_model.py:524: ValueWarning: No frequency information was provided, so inferred frequency QS-OCT will be used.\n",
      "  warnings.warn('No frequency information was'\n"
     ]
    },
    {
     "name": "stdout",
     "output_type": "stream",
     "text": [
      "ARIMA(1, 0, 0)x(1, 0, 1, 4)4-AIC:536.1867008727686\n",
      "ARIMA(1, 0, 0)x(1, 1, 0, 4)4-AIC:388.9805711660917\n"
     ]
    },
    {
     "name": "stderr",
     "output_type": "stream",
     "text": [
      "C:\\Users\\pc\\anaconda3\\lib\\site-packages\\statsmodels\\tsa\\base\\tsa_model.py:524: ValueWarning: No frequency information was provided, so inferred frequency QS-OCT will be used.\n",
      "  warnings.warn('No frequency information was'\n",
      "C:\\Users\\pc\\anaconda3\\lib\\site-packages\\statsmodels\\tsa\\base\\tsa_model.py:524: ValueWarning: No frequency information was provided, so inferred frequency QS-OCT will be used.\n",
      "  warnings.warn('No frequency information was'\n",
      "C:\\Users\\pc\\anaconda3\\lib\\site-packages\\statsmodels\\tsa\\base\\tsa_model.py:524: ValueWarning: No frequency information was provided, so inferred frequency QS-OCT will be used.\n",
      "  warnings.warn('No frequency information was'\n",
      "C:\\Users\\pc\\anaconda3\\lib\\site-packages\\statsmodels\\tsa\\base\\tsa_model.py:524: ValueWarning: No frequency information was provided, so inferred frequency QS-OCT will be used.\n",
      "  warnings.warn('No frequency information was'\n"
     ]
    },
    {
     "name": "stdout",
     "output_type": "stream",
     "text": [
      "ARIMA(1, 0, 0)x(1, 1, 1, 4)4-AIC:390.4949523223671\n",
      "ARIMA(1, 0, 1)x(0, 0, 0, 4)4-AIC:533.4480258570915\n"
     ]
    },
    {
     "name": "stderr",
     "output_type": "stream",
     "text": [
      "C:\\Users\\pc\\anaconda3\\lib\\site-packages\\statsmodels\\tsa\\base\\tsa_model.py:524: ValueWarning: No frequency information was provided, so inferred frequency QS-OCT will be used.\n",
      "  warnings.warn('No frequency information was'\n",
      "C:\\Users\\pc\\anaconda3\\lib\\site-packages\\statsmodels\\tsa\\base\\tsa_model.py:524: ValueWarning: No frequency information was provided, so inferred frequency QS-OCT will be used.\n",
      "  warnings.warn('No frequency information was'\n",
      "C:\\Users\\pc\\anaconda3\\lib\\site-packages\\statsmodels\\tsa\\statespace\\sarimax.py:966: UserWarning: Non-stationary starting autoregressive parameters found. Using zeros as starting parameters.\n",
      "  warn('Non-stationary starting autoregressive parameters'\n",
      "C:\\Users\\pc\\anaconda3\\lib\\site-packages\\statsmodels\\tsa\\base\\tsa_model.py:524: ValueWarning: No frequency information was provided, so inferred frequency QS-OCT will be used.\n",
      "  warnings.warn('No frequency information was'\n",
      "C:\\Users\\pc\\anaconda3\\lib\\site-packages\\statsmodels\\tsa\\base\\tsa_model.py:524: ValueWarning: No frequency information was provided, so inferred frequency QS-OCT will be used.\n",
      "  warnings.warn('No frequency information was'\n"
     ]
    },
    {
     "name": "stdout",
     "output_type": "stream",
     "text": [
      "ARIMA(1, 0, 1)x(0, 0, 1, 4)4-AIC:533.5051280870557\n",
      "ARIMA(1, 0, 1)x(0, 1, 0, 4)4-AIC:389.28290248976646\n"
     ]
    },
    {
     "name": "stderr",
     "output_type": "stream",
     "text": [
      "C:\\Users\\pc\\anaconda3\\lib\\site-packages\\statsmodels\\tsa\\base\\tsa_model.py:524: ValueWarning: No frequency information was provided, so inferred frequency QS-OCT will be used.\n",
      "  warnings.warn('No frequency information was'\n",
      "C:\\Users\\pc\\anaconda3\\lib\\site-packages\\statsmodels\\tsa\\base\\tsa_model.py:524: ValueWarning: No frequency information was provided, so inferred frequency QS-OCT will be used.\n",
      "  warnings.warn('No frequency information was'\n",
      "C:\\Users\\pc\\anaconda3\\lib\\site-packages\\statsmodels\\tsa\\base\\tsa_model.py:524: ValueWarning: No frequency information was provided, so inferred frequency QS-OCT will be used.\n",
      "  warnings.warn('No frequency information was'\n",
      "C:\\Users\\pc\\anaconda3\\lib\\site-packages\\statsmodels\\tsa\\base\\tsa_model.py:524: ValueWarning: No frequency information was provided, so inferred frequency QS-OCT will be used.\n",
      "  warnings.warn('No frequency information was'\n"
     ]
    },
    {
     "name": "stdout",
     "output_type": "stream",
     "text": [
      "ARIMA(1, 0, 1)x(0, 1, 1, 4)4-AIC:391.0514621519778\n"
     ]
    },
    {
     "name": "stderr",
     "output_type": "stream",
     "text": [
      "C:\\Users\\pc\\anaconda3\\lib\\site-packages\\statsmodels\\tsa\\base\\tsa_model.py:524: ValueWarning: No frequency information was provided, so inferred frequency QS-OCT will be used.\n",
      "  warnings.warn('No frequency information was'\n",
      "C:\\Users\\pc\\anaconda3\\lib\\site-packages\\statsmodels\\tsa\\base\\tsa_model.py:524: ValueWarning: No frequency information was provided, so inferred frequency QS-OCT will be used.\n",
      "  warnings.warn('No frequency information was'\n"
     ]
    },
    {
     "name": "stdout",
     "output_type": "stream",
     "text": [
      "ARIMA(1, 0, 1)x(1, 0, 0, 4)4-AIC:532.4880048369978\n"
     ]
    },
    {
     "name": "stderr",
     "output_type": "stream",
     "text": [
      "C:\\Users\\pc\\anaconda3\\lib\\site-packages\\statsmodels\\tsa\\base\\tsa_model.py:524: ValueWarning: No frequency information was provided, so inferred frequency QS-OCT will be used.\n",
      "  warnings.warn('No frequency information was'\n",
      "C:\\Users\\pc\\anaconda3\\lib\\site-packages\\statsmodels\\tsa\\base\\tsa_model.py:524: ValueWarning: No frequency information was provided, so inferred frequency QS-OCT will be used.\n",
      "  warnings.warn('No frequency information was'\n"
     ]
    },
    {
     "name": "stdout",
     "output_type": "stream",
     "text": [
      "ARIMA(1, 0, 1)x(1, 0, 1, 4)4-AIC:534.437918890485\n",
      "ARIMA(1, 0, 1)x(1, 1, 0, 4)4-AIC:391.0082864611514\n"
     ]
    },
    {
     "name": "stderr",
     "output_type": "stream",
     "text": [
      "C:\\Users\\pc\\anaconda3\\lib\\site-packages\\statsmodels\\tsa\\base\\tsa_model.py:524: ValueWarning: No frequency information was provided, so inferred frequency QS-OCT will be used.\n",
      "  warnings.warn('No frequency information was'\n",
      "C:\\Users\\pc\\anaconda3\\lib\\site-packages\\statsmodels\\tsa\\base\\tsa_model.py:524: ValueWarning: No frequency information was provided, so inferred frequency QS-OCT will be used.\n",
      "  warnings.warn('No frequency information was'\n",
      "C:\\Users\\pc\\anaconda3\\lib\\site-packages\\statsmodels\\tsa\\base\\tsa_model.py:524: ValueWarning: No frequency information was provided, so inferred frequency QS-OCT will be used.\n",
      "  warnings.warn('No frequency information was'\n",
      "C:\\Users\\pc\\anaconda3\\lib\\site-packages\\statsmodels\\tsa\\base\\tsa_model.py:524: ValueWarning: No frequency information was provided, so inferred frequency QS-OCT will be used.\n",
      "  warnings.warn('No frequency information was'\n"
     ]
    },
    {
     "name": "stdout",
     "output_type": "stream",
     "text": [
      "ARIMA(1, 0, 1)x(1, 1, 1, 4)4-AIC:392.78018293668936\n",
      "ARIMA(1, 1, 0)x(0, 0, 0, 4)4-AIC:500.21000096072396\n",
      "ARIMA(1, 1, 0)x(0, 0, 1, 4)4-AIC:501.169155216293\n"
     ]
    },
    {
     "name": "stderr",
     "output_type": "stream",
     "text": [
      "C:\\Users\\pc\\anaconda3\\lib\\site-packages\\statsmodels\\tsa\\base\\tsa_model.py:524: ValueWarning: No frequency information was provided, so inferred frequency QS-OCT will be used.\n",
      "  warnings.warn('No frequency information was'\n",
      "C:\\Users\\pc\\anaconda3\\lib\\site-packages\\statsmodels\\tsa\\base\\tsa_model.py:524: ValueWarning: No frequency information was provided, so inferred frequency QS-OCT will be used.\n",
      "  warnings.warn('No frequency information was'\n",
      "C:\\Users\\pc\\anaconda3\\lib\\site-packages\\statsmodels\\tsa\\base\\tsa_model.py:524: ValueWarning: No frequency information was provided, so inferred frequency QS-OCT will be used.\n",
      "  warnings.warn('No frequency information was'\n",
      "C:\\Users\\pc\\anaconda3\\lib\\site-packages\\statsmodels\\tsa\\base\\tsa_model.py:524: ValueWarning: No frequency information was provided, so inferred frequency QS-OCT will be used.\n",
      "  warnings.warn('No frequency information was'\n",
      "C:\\Users\\pc\\anaconda3\\lib\\site-packages\\statsmodels\\tsa\\base\\tsa_model.py:524: ValueWarning: No frequency information was provided, so inferred frequency QS-OCT will be used.\n",
      "  warnings.warn('No frequency information was'\n",
      "C:\\Users\\pc\\anaconda3\\lib\\site-packages\\statsmodels\\tsa\\base\\tsa_model.py:524: ValueWarning: No frequency information was provided, so inferred frequency QS-OCT will be used.\n",
      "  warnings.warn('No frequency information was'\n"
     ]
    },
    {
     "name": "stdout",
     "output_type": "stream",
     "text": [
      "ARIMA(1, 1, 0)x(0, 1, 0, 4)4-AIC:361.9580657646517\n",
      "ARIMA(1, 1, 0)x(0, 1, 1, 4)4-AIC:363.8254144585542\n"
     ]
    },
    {
     "name": "stderr",
     "output_type": "stream",
     "text": [
      "C:\\Users\\pc\\anaconda3\\lib\\site-packages\\statsmodels\\tsa\\base\\tsa_model.py:524: ValueWarning: No frequency information was provided, so inferred frequency QS-OCT will be used.\n",
      "  warnings.warn('No frequency information was'\n",
      "C:\\Users\\pc\\anaconda3\\lib\\site-packages\\statsmodels\\tsa\\base\\tsa_model.py:524: ValueWarning: No frequency information was provided, so inferred frequency QS-OCT will be used.\n",
      "  warnings.warn('No frequency information was'\n",
      "C:\\Users\\pc\\anaconda3\\lib\\site-packages\\statsmodels\\tsa\\base\\tsa_model.py:524: ValueWarning: No frequency information was provided, so inferred frequency QS-OCT will be used.\n",
      "  warnings.warn('No frequency information was'\n",
      "C:\\Users\\pc\\anaconda3\\lib\\site-packages\\statsmodels\\tsa\\base\\tsa_model.py:524: ValueWarning: No frequency information was provided, so inferred frequency QS-OCT will be used.\n",
      "  warnings.warn('No frequency information was'\n"
     ]
    },
    {
     "name": "stdout",
     "output_type": "stream",
     "text": [
      "ARIMA(1, 1, 0)x(1, 0, 0, 4)4-AIC:501.029835945135\n",
      "ARIMA(1, 1, 0)x(1, 0, 1, 4)4-AIC:503.0132117764616\n",
      "ARIMA(1, 1, 0)x(1, 1, 0, 4)4-AIC:363.7467621606458\n"
     ]
    },
    {
     "name": "stderr",
     "output_type": "stream",
     "text": [
      "C:\\Users\\pc\\anaconda3\\lib\\site-packages\\statsmodels\\tsa\\base\\tsa_model.py:524: ValueWarning: No frequency information was provided, so inferred frequency QS-OCT will be used.\n",
      "  warnings.warn('No frequency information was'\n",
      "C:\\Users\\pc\\anaconda3\\lib\\site-packages\\statsmodels\\tsa\\base\\tsa_model.py:524: ValueWarning: No frequency information was provided, so inferred frequency QS-OCT will be used.\n",
      "  warnings.warn('No frequency information was'\n",
      "C:\\Users\\pc\\anaconda3\\lib\\site-packages\\statsmodels\\tsa\\base\\tsa_model.py:524: ValueWarning: No frequency information was provided, so inferred frequency QS-OCT will be used.\n",
      "  warnings.warn('No frequency information was'\n",
      "C:\\Users\\pc\\anaconda3\\lib\\site-packages\\statsmodels\\tsa\\base\\tsa_model.py:524: ValueWarning: No frequency information was provided, so inferred frequency QS-OCT will be used.\n",
      "  warnings.warn('No frequency information was'\n",
      "C:\\Users\\pc\\anaconda3\\lib\\site-packages\\statsmodels\\tsa\\base\\tsa_model.py:524: ValueWarning: No frequency information was provided, so inferred frequency QS-OCT will be used.\n",
      "  warnings.warn('No frequency information was'\n",
      "C:\\Users\\pc\\anaconda3\\lib\\site-packages\\statsmodels\\tsa\\base\\tsa_model.py:524: ValueWarning: No frequency information was provided, so inferred frequency QS-OCT will be used.\n",
      "  warnings.warn('No frequency information was'\n"
     ]
    },
    {
     "name": "stdout",
     "output_type": "stream",
     "text": [
      "ARIMA(1, 1, 0)x(1, 1, 1, 4)4-AIC:365.04663474307944\n",
      "ARIMA(1, 1, 1)x(0, 0, 0, 4)4-AIC:513.0754032005718\n"
     ]
    },
    {
     "name": "stderr",
     "output_type": "stream",
     "text": [
      "C:\\Users\\pc\\anaconda3\\lib\\site-packages\\statsmodels\\tsa\\base\\tsa_model.py:524: ValueWarning: No frequency information was provided, so inferred frequency QS-OCT will be used.\n",
      "  warnings.warn('No frequency information was'\n",
      "C:\\Users\\pc\\anaconda3\\lib\\site-packages\\statsmodels\\tsa\\base\\tsa_model.py:524: ValueWarning: No frequency information was provided, so inferred frequency QS-OCT will be used.\n",
      "  warnings.warn('No frequency information was'\n",
      "C:\\Users\\pc\\anaconda3\\lib\\site-packages\\statsmodels\\tsa\\base\\tsa_model.py:524: ValueWarning: No frequency information was provided, so inferred frequency QS-OCT will be used.\n",
      "  warnings.warn('No frequency information was'\n",
      "C:\\Users\\pc\\anaconda3\\lib\\site-packages\\statsmodels\\tsa\\base\\tsa_model.py:524: ValueWarning: No frequency information was provided, so inferred frequency QS-OCT will be used.\n",
      "  warnings.warn('No frequency information was'\n",
      "C:\\Users\\pc\\anaconda3\\lib\\site-packages\\statsmodels\\tsa\\base\\tsa_model.py:524: ValueWarning: No frequency information was provided, so inferred frequency QS-OCT will be used.\n",
      "  warnings.warn('No frequency information was'\n",
      "C:\\Users\\pc\\anaconda3\\lib\\site-packages\\statsmodels\\tsa\\base\\tsa_model.py:524: ValueWarning: No frequency information was provided, so inferred frequency QS-OCT will be used.\n",
      "  warnings.warn('No frequency information was'\n"
     ]
    },
    {
     "name": "stdout",
     "output_type": "stream",
     "text": [
      "ARIMA(1, 1, 1)x(0, 0, 1, 4)4-AIC:516.2340773704327\n",
      "ARIMA(1, 1, 1)x(0, 1, 0, 4)4-AIC:363.7644249601052\n"
     ]
    },
    {
     "name": "stderr",
     "output_type": "stream",
     "text": [
      "C:\\Users\\pc\\anaconda3\\lib\\site-packages\\statsmodels\\tsa\\base\\tsa_model.py:524: ValueWarning: No frequency information was provided, so inferred frequency QS-OCT will be used.\n",
      "  warnings.warn('No frequency information was'\n",
      "C:\\Users\\pc\\anaconda3\\lib\\site-packages\\statsmodels\\tsa\\base\\tsa_model.py:524: ValueWarning: No frequency information was provided, so inferred frequency QS-OCT will be used.\n",
      "  warnings.warn('No frequency information was'\n",
      "C:\\Users\\pc\\anaconda3\\lib\\site-packages\\statsmodels\\tsa\\base\\tsa_model.py:524: ValueWarning: No frequency information was provided, so inferred frequency QS-OCT will be used.\n",
      "  warnings.warn('No frequency information was'\n",
      "C:\\Users\\pc\\anaconda3\\lib\\site-packages\\statsmodels\\tsa\\base\\tsa_model.py:524: ValueWarning: No frequency information was provided, so inferred frequency QS-OCT will be used.\n",
      "  warnings.warn('No frequency information was'\n"
     ]
    },
    {
     "name": "stdout",
     "output_type": "stream",
     "text": [
      "ARIMA(1, 1, 1)x(0, 1, 1, 4)4-AIC:365.6517285907399\n",
      "ARIMA(1, 1, 1)x(1, 0, 0, 4)4-AIC:516.2610793714505\n"
     ]
    },
    {
     "name": "stderr",
     "output_type": "stream",
     "text": [
      "C:\\Users\\pc\\anaconda3\\lib\\site-packages\\statsmodels\\tsa\\base\\tsa_model.py:524: ValueWarning: No frequency information was provided, so inferred frequency QS-OCT will be used.\n",
      "  warnings.warn('No frequency information was'\n",
      "C:\\Users\\pc\\anaconda3\\lib\\site-packages\\statsmodels\\tsa\\base\\tsa_model.py:524: ValueWarning: No frequency information was provided, so inferred frequency QS-OCT will be used.\n",
      "  warnings.warn('No frequency information was'\n"
     ]
    },
    {
     "name": "stdout",
     "output_type": "stream",
     "text": [
      "ARIMA(1, 1, 1)x(1, 0, 1, 4)4-AIC:518.0874942611973\n",
      "ARIMA(1, 1, 1)x(1, 1, 0, 4)4-AIC:365.5859359936054\n"
     ]
    },
    {
     "name": "stderr",
     "output_type": "stream",
     "text": [
      "C:\\Users\\pc\\anaconda3\\lib\\site-packages\\statsmodels\\tsa\\base\\tsa_model.py:524: ValueWarning: No frequency information was provided, so inferred frequency QS-OCT will be used.\n",
      "  warnings.warn('No frequency information was'\n",
      "C:\\Users\\pc\\anaconda3\\lib\\site-packages\\statsmodels\\tsa\\base\\tsa_model.py:524: ValueWarning: No frequency information was provided, so inferred frequency QS-OCT will be used.\n",
      "  warnings.warn('No frequency information was'\n",
      "C:\\Users\\pc\\anaconda3\\lib\\site-packages\\statsmodels\\tsa\\base\\tsa_model.py:524: ValueWarning: No frequency information was provided, so inferred frequency QS-OCT will be used.\n",
      "  warnings.warn('No frequency information was'\n",
      "C:\\Users\\pc\\anaconda3\\lib\\site-packages\\statsmodels\\tsa\\base\\tsa_model.py:524: ValueWarning: No frequency information was provided, so inferred frequency QS-OCT will be used.\n",
      "  warnings.warn('No frequency information was'\n"
     ]
    },
    {
     "name": "stdout",
     "output_type": "stream",
     "text": [
      "ARIMA(1, 1, 1)x(1, 1, 1, 4)4-AIC:366.9883278801428\n"
     ]
    }
   ],
   "source": [
    "from pylab import rcParams \n",
    "import statsmodels.api as sm \n",
    "for param in pdq: \n",
    "    for param_seasonal in seasonal_pdq: \n",
    "        try: \n",
    "            mod= sm.tsa.statespace.SARIMAX(data, order=param, seasonal_order= param_seasonal)\n",
    "            results= mod.fit() \n",
    "            print('ARIMA{}x{}4-AIC:{}'.format(param, param_seasonal, results.aic)) \n",
    "        except: \n",
    "            continue"
   ]
  },
  {
   "cell_type": "code",
   "execution_count": 57,
   "id": "d33b0154",
   "metadata": {},
   "outputs": [],
   "source": [
    "# ARIMA(1, 1, 0)x(0, 1, 0, 4)4-AIC:361.9580657646517 choosed best perameter as they have lowest AIC value."
   ]
  },
  {
   "cell_type": "code",
   "execution_count": 58,
   "id": "c2046dc4",
   "metadata": {},
   "outputs": [
    {
     "name": "stderr",
     "output_type": "stream",
     "text": [
      "C:\\Users\\pc\\anaconda3\\lib\\site-packages\\statsmodels\\tsa\\arima_model.py:472: FutureWarning: \n",
      "statsmodels.tsa.arima_model.ARMA and statsmodels.tsa.arima_model.ARIMA have\n",
      "been deprecated in favor of statsmodels.tsa.arima.model.ARIMA (note the .\n",
      "between arima and model) and\n",
      "statsmodels.tsa.SARIMAX. These will be removed after the 0.12 release.\n",
      "\n",
      "statsmodels.tsa.arima.model.ARIMA makes use of the statespace framework and\n",
      "is both well tested and maintained.\n",
      "\n",
      "To silence this warning and continue using ARMA and ARIMA until they are\n",
      "removed, use:\n",
      "\n",
      "import warnings\n",
      "warnings.filterwarnings('ignore', 'statsmodels.tsa.arima_model.ARMA',\n",
      "                        FutureWarning)\n",
      "warnings.filterwarnings('ignore', 'statsmodels.tsa.arima_model.ARIMA',\n",
      "                        FutureWarning)\n",
      "\n",
      "  warnings.warn(ARIMA_DEPRECATION_WARN, FutureWarning)\n",
      "C:\\Users\\pc\\anaconda3\\lib\\site-packages\\statsmodels\\tsa\\base\\tsa_model.py:524: ValueWarning: No frequency information was provided, so inferred frequency QS-OCT will be used.\n",
      "  warnings.warn('No frequency information was'\n",
      "C:\\Users\\pc\\anaconda3\\lib\\site-packages\\statsmodels\\tsa\\base\\tsa_model.py:524: ValueWarning: No frequency information was provided, so inferred frequency QS-OCT will be used.\n",
      "  warnings.warn('No frequency information was'\n"
     ]
    },
    {
     "data": {
      "text/html": [
       "<table class=\"simpletable\">\n",
       "<caption>ARIMA Model Results</caption>\n",
       "<tr>\n",
       "  <th>Dep. Variable:</th>      <td>D.VALUE</td>     <th>  No. Observations:  </th>     <td>15</td>     \n",
       "</tr>\n",
       "<tr>\n",
       "  <th>Model:</th>          <td>ARIMA(1, 1, 0)</td>  <th>  Log Likelihood     </th>  <td>-248.338</td>  \n",
       "</tr>\n",
       "<tr>\n",
       "  <th>Method:</th>             <td>css-mle</td>     <th>  S.D. of innovations</th> <td>3733380.712</td>\n",
       "</tr>\n",
       "<tr>\n",
       "  <th>Date:</th>          <td>Sun, 02 Jan 2022</td> <th>  AIC                </th>   <td>502.675</td>  \n",
       "</tr>\n",
       "<tr>\n",
       "  <th>Time:</th>              <td>01:22:06</td>     <th>  BIC                </th>   <td>504.799</td>  \n",
       "</tr>\n",
       "<tr>\n",
       "  <th>Sample:</th>           <td>01-01-2014</td>    <th>  HQIC               </th>   <td>502.653</td>  \n",
       "</tr>\n",
       "<tr>\n",
       "  <th></th>                 <td>- 07-01-2017</td>   <th>                     </th>      <td> </td>     \n",
       "</tr>\n",
       "</table>\n",
       "<table class=\"simpletable\">\n",
       "<tr>\n",
       "        <td></td>           <th>coef</th>     <th>std err</th>      <th>z</th>      <th>P>|z|</th>  <th>[0.025</th>    <th>0.975]</th>  \n",
       "</tr>\n",
       "<tr>\n",
       "  <th>const</th>         <td>  2.91e+05</td> <td> 7.33e+05</td> <td>    0.397</td> <td> 0.691</td> <td>-1.14e+06</td> <td> 1.73e+06</td>\n",
       "</tr>\n",
       "<tr>\n",
       "  <th>ar.L1.D.VALUE</th> <td>   -0.3395</td> <td>    0.249</td> <td>   -1.364</td> <td> 0.173</td> <td>   -0.827</td> <td>    0.148</td>\n",
       "</tr>\n",
       "</table>\n",
       "<table class=\"simpletable\">\n",
       "<caption>Roots</caption>\n",
       "<tr>\n",
       "    <td></td>   <th>            Real</th>  <th>         Imaginary</th> <th>         Modulus</th>  <th>        Frequency</th>\n",
       "</tr>\n",
       "<tr>\n",
       "  <th>AR.1</th> <td>          -2.9459</td> <td>          +0.0000j</td> <td>           2.9459</td> <td>           0.5000</td>\n",
       "</tr>\n",
       "</table>"
      ],
      "text/plain": [
       "<class 'statsmodels.iolib.summary.Summary'>\n",
       "\"\"\"\n",
       "                             ARIMA Model Results                              \n",
       "==============================================================================\n",
       "Dep. Variable:                D.VALUE   No. Observations:                   15\n",
       "Model:                 ARIMA(1, 1, 0)   Log Likelihood                -248.338\n",
       "Method:                       css-mle   S.D. of innovations        3733380.712\n",
       "Date:                Sun, 02 Jan 2022   AIC                            502.675\n",
       "Time:                        01:22:06   BIC                            504.799\n",
       "Sample:                    01-01-2014   HQIC                           502.653\n",
       "                         - 07-01-2017                                         \n",
       "=================================================================================\n",
       "                    coef    std err          z      P>|z|      [0.025      0.975]\n",
       "---------------------------------------------------------------------------------\n",
       "const           2.91e+05   7.33e+05      0.397      0.691   -1.14e+06    1.73e+06\n",
       "ar.L1.D.VALUE    -0.3395      0.249     -1.364      0.173      -0.827       0.148\n",
       "                                    Roots                                    \n",
       "=============================================================================\n",
       "                  Real          Imaginary           Modulus         Frequency\n",
       "-----------------------------------------------------------------------------\n",
       "AR.1           -2.9459           +0.0000j            2.9459            0.5000\n",
       "-----------------------------------------------------------------------------\n",
       "\"\"\""
      ]
     },
     "execution_count": 58,
     "metadata": {},
     "output_type": "execute_result"
    }
   ],
   "source": [
    "# ARIMA Model\n",
    "from statsmodels.tsa.arima_model import ARIMA\n",
    "model= ARIMA(data[\"VALUE\"], order= (1,1,0))\n",
    "res=model.fit()\n",
    "res.summary()"
   ]
  },
  {
   "cell_type": "markdown",
   "id": "a2f63d56",
   "metadata": {},
   "source": [
    "#As per the seasonal graph the data has some seasonality in it in that case SARIMAX would be the best fit for forcasting instead of ARIMA."
   ]
  },
  {
   "cell_type": "code",
   "execution_count": 59,
   "id": "b46e129b",
   "metadata": {
    "scrolled": true
   },
   "outputs": [
    {
     "name": "stderr",
     "output_type": "stream",
     "text": [
      "C:\\Users\\pc\\anaconda3\\lib\\site-packages\\statsmodels\\tsa\\base\\tsa_model.py:524: ValueWarning: No frequency information was provided, so inferred frequency QS-OCT will be used.\n",
      "  warnings.warn('No frequency information was'\n",
      "C:\\Users\\pc\\anaconda3\\lib\\site-packages\\statsmodels\\tsa\\base\\tsa_model.py:524: ValueWarning: No frequency information was provided, so inferred frequency QS-OCT will be used.\n",
      "  warnings.warn('No frequency information was'\n"
     ]
    }
   ],
   "source": [
    "# Fitting the SARIMA Model\n",
    "mod= sm.tsa.statespace.SARIMAX(data, order= (1, 1, 0), seasonal_order=(0, 1, 0, 4))\n",
    "results= mod.fit()"
   ]
  },
  {
   "cell_type": "code",
   "execution_count": 60,
   "id": "51472c71",
   "metadata": {
    "scrolled": false
   },
   "outputs": [
    {
     "name": "stdout",
     "output_type": "stream",
     "text": [
      "==============================================================================\n",
      "                 coef    std err          z      P>|z|      [0.025      0.975]\n",
      "------------------------------------------------------------------------------\n",
      "ar.L1         -0.3400      0.127     -2.687      0.007      -0.588      -0.092\n",
      "sigma2      6.528e+12   3.69e-15   1.77e+27      0.000    6.53e+12    6.53e+12\n",
      "==============================================================================\n"
     ]
    }
   ],
   "source": [
    "print(results.summary().tables[1])"
   ]
  },
  {
   "cell_type": "code",
   "execution_count": 61,
   "id": "d5f1056d",
   "metadata": {},
   "outputs": [
    {
     "data": {
      "image/png": "[encoded data removed]",
      "text/plain": [
       "<Figure size 1008x504 with 4 Axes>"
      ]
     },
     "metadata": {
      "needs_background": "light"
     },
     "output_type": "display_data"
    }
   ],
   "source": [
    "results.plot_diagnostics(figsize=(14,7))\n",
    "plt.show()"
   ]
  },
  {
   "cell_type": "code",
   "execution_count": 62,
   "id": "a21766c2",
   "metadata": {},
   "outputs": [
    {
     "data": {
      "image/png": "[encoded data removed]",
      "text/plain": [
       "<Figure size 864x360 with 1 Axes>"
      ]
     },
     "metadata": {
      "needs_background": "light"
     },
     "output_type": "display_data"
    }
   ],
   "source": [
    "pred=results.get_prediction(start=pd.to_datetime('2016-10-01'),dynamic=False)\n",
    "pred_ci=pred.conf_int()\n",
    "ax=data.plot(label='observed', figsize= (12,5))\n",
    "pred.predicted_mean.plot(ax=ax, label='one step ahead forecast', figsize= (12,5))\n",
    "\n",
    "ax.set_xlabel(\"QUARTERS\")\n",
    "ax.set_ylabel(\"Fertilizer Sales\")\n",
    "plt.legend()\n",
    "plt.show()"
   ]
  },
  {
   "cell_type": "code",
   "execution_count": 63,
   "id": "c7df0fe3",
   "metadata": {},
   "outputs": [
    {
     "data": {
      "text/plain": [
       "2016-10-01     8829560.0\n",
       "2017-01-01     3147188.0\n",
       "2017-04-01     9939029.0\n",
       "2017-07-01    13036981.0\n",
       "Freq: QS-OCT, Name: predicted_mean, dtype: float64"
      ]
     },
     "execution_count": 63,
     "metadata": {},
     "output_type": "execute_result"
    }
   ],
   "source": [
    "pred.predicted_mean.round()"
   ]
  },
  {
   "cell_type": "code",
   "execution_count": 64,
   "id": "e113fcef",
   "metadata": {},
   "outputs": [
    {
     "data": {
      "text/html": [
       "<div>\n",
       "<style scoped>\n",
       "    .dataframe tbody tr th:only-of-type {\n",
       "        vertical-align: middle;\n",
       "    }\n",
       "\n",
       "    .dataframe tbody tr th {\n",
       "        vertical-align: top;\n",
       "    }\n",
       "\n",
       "    .dataframe thead th {\n",
       "        text-align: right;\n",
       "    }\n",
       "</style>\n",
       "<table border=\"1\" class=\"dataframe\">\n",
       "  <thead>\n",
       "    <tr style=\"text-align: right;\">\n",
       "      <th></th>\n",
       "      <th>VALUE</th>\n",
       "    </tr>\n",
       "    <tr>\n",
       "      <th>QUARTERS</th>\n",
       "      <th></th>\n",
       "    </tr>\n",
       "  </thead>\n",
       "  <tbody>\n",
       "    <tr>\n",
       "      <th>2016-10-01</th>\n",
       "      <td>3166624.0</td>\n",
       "    </tr>\n",
       "    <tr>\n",
       "      <th>2017-01-01</th>\n",
       "      <td>9115731.0</td>\n",
       "    </tr>\n",
       "    <tr>\n",
       "      <th>2017-04-01</th>\n",
       "      <td>9869125.0</td>\n",
       "    </tr>\n",
       "    <tr>\n",
       "      <th>2017-07-01</th>\n",
       "      <td>14715308.0</td>\n",
       "    </tr>\n",
       "  </tbody>\n",
       "</table>\n",
       "</div>"
      ],
      "text/plain": [
       "                 VALUE\n",
       "QUARTERS              \n",
       "2016-10-01   3166624.0\n",
       "2017-01-01   9115731.0\n",
       "2017-04-01   9869125.0\n",
       "2017-07-01  14715308.0"
      ]
     },
     "execution_count": 64,
     "metadata": {},
     "output_type": "execute_result"
    }
   ],
   "source": [
    "data['2016-10-01':]"
   ]
  },
  {
   "cell_type": "code",
   "execution_count": 67,
   "id": "50e65a70",
   "metadata": {},
   "outputs": [],
   "source": [
    "mape= ((data_actual-data_forcast)/data_actual)*len(data_actual)"
   ]
  },
  {
   "cell_type": "code",
   "execution_count": 68,
   "id": "bc5520e1",
   "metadata": {},
   "outputs": [
    {
     "data": {
      "text/plain": [
       "VALUE    0.051917\n",
       "dtype: float64"
      ]
     },
     "execution_count": 68,
     "metadata": {},
     "output_type": "execute_result"
    }
   ],
   "source": [
    "mape"
   ]
  },
  {
   "cell_type": "markdown",
   "id": "e8470320",
   "metadata": {},
   "source": [
    "#Calculating MSE & RMSE"
   ]
  },
  {
   "cell_type": "code",
   "execution_count": 66,
   "id": "a5046815",
   "metadata": {},
   "outputs": [],
   "source": [
    "data_forcast=pred.predicted_mean.mean()\n",
    "data_actual=data['2016-10-01':].mean()\n",
    "MSE=((data_forcast-data_actual)**2).mean()\n",
    "RMSE=round(np.sqrt(MSE),2)"
   ]
  },
  {
   "cell_type": "code",
   "execution_count": 66,
   "id": "7616bb4e",
   "metadata": {},
   "outputs": [
    {
     "data": {
      "text/plain": [
       "478507.25"
      ]
     },
     "execution_count": 66,
     "metadata": {},
     "output_type": "execute_result"
    }
   ],
   "source": [
    "RMSE"
   ]
  },
  {
   "cell_type": "code",
   "execution_count": 67,
   "id": "bd3f9913",
   "metadata": {},
   "outputs": [],
   "source": [
    "#Forcasting sales for 2018 Quarters"
   ]
  },
  {
   "cell_type": "code",
   "execution_count": 68,
   "id": "406ab3df",
   "metadata": {},
   "outputs": [
    {
     "data": {
      "image/png": "[encoded data removed]",
      "text/plain": [
       "<Figure size 864x360 with 1 Axes>"
      ]
     },
     "metadata": {
      "needs_background": "light"
     },
     "output_type": "display_data"
    }
   ],
   "source": [
    "pred_uc=results.get_forecast(steps=6)\n",
    "pred_ci=pred_uc.conf_int()\n",
    "ax=data.plot(label='observed', figsize= (12,5))\n",
    "pred_uc.predicted_mean.plot(ax=ax)\n",
    "\n",
    "ax.set_xlabel(\"QUARTERS\")\n",
    "ax.set_ylabel(\"Fertilizer Sales\")\n",
    "plt.legend()\n",
    "plt.show()\n"
   ]
  },
  {
   "cell_type": "code",
   "execution_count": 69,
   "id": "2f50000d",
   "metadata": {},
   "outputs": [],
   "source": [
    "#Now forcasting the sales for ANC Manufacturing Company\n",
    "ABC= sale_data[sale_data['COMPANY'] == 'ABC Manufacturing']"
   ]
  },
  {
   "cell_type": "code",
   "execution_count": 70,
   "id": "6b69b649",
   "metadata": {},
   "outputs": [
    {
     "data": {
      "text/html": [
       "<div>\n",
       "<style scoped>\n",
       "    .dataframe tbody tr th:only-of-type {\n",
       "        vertical-align: middle;\n",
       "    }\n",
       "\n",
       "    .dataframe tbody tr th {\n",
       "        vertical-align: top;\n",
       "    }\n",
       "\n",
       "    .dataframe thead th {\n",
       "        text-align: right;\n",
       "    }\n",
       "</style>\n",
       "<table border=\"1\" class=\"dataframe\">\n",
       "  <thead>\n",
       "    <tr style=\"text-align: right;\">\n",
       "      <th></th>\n",
       "      <th>STATE</th>\n",
       "      <th>FG</th>\n",
       "      <th>DISTRICT</th>\n",
       "      <th>COMPANY</th>\n",
       "      <th>VALUE</th>\n",
       "      <th>QUARTERS</th>\n",
       "    </tr>\n",
       "    <tr>\n",
       "      <th>FIN_YEAR</th>\n",
       "      <th></th>\n",
       "      <th></th>\n",
       "      <th></th>\n",
       "      <th></th>\n",
       "      <th></th>\n",
       "      <th></th>\n",
       "    </tr>\n",
       "  </thead>\n",
       "  <tbody>\n",
       "    <tr>\n",
       "      <th>2014-12-01</th>\n",
       "      <td>Haryana</td>\n",
       "      <td>Insecticides</td>\n",
       "      <td>Ambala</td>\n",
       "      <td>ABC Manufacturing</td>\n",
       "      <td>6019.380</td>\n",
       "      <td>2014Q3</td>\n",
       "    </tr>\n",
       "    <tr>\n",
       "      <th>2014-12-01</th>\n",
       "      <td>Haryana</td>\n",
       "      <td>Insecticides</td>\n",
       "      <td>Yamunanagar</td>\n",
       "      <td>ABC Manufacturing</td>\n",
       "      <td>425.250</td>\n",
       "      <td>2014Q3</td>\n",
       "    </tr>\n",
       "    <tr>\n",
       "      <th>2014-12-01</th>\n",
       "      <td>Haryana</td>\n",
       "      <td>Insecticides</td>\n",
       "      <td>Karnal</td>\n",
       "      <td>ABC Manufacturing</td>\n",
       "      <td>14782.635</td>\n",
       "      <td>2014Q3</td>\n",
       "    </tr>\n",
       "    <tr>\n",
       "      <th>2014-12-01</th>\n",
       "      <td>Haryana</td>\n",
       "      <td>Insecticides</td>\n",
       "      <td>Panipat</td>\n",
       "      <td>ABC Manufacturing</td>\n",
       "      <td>4031.910</td>\n",
       "      <td>2014Q3</td>\n",
       "    </tr>\n",
       "    <tr>\n",
       "      <th>2014-12-01</th>\n",
       "      <td>Haryana</td>\n",
       "      <td>Insecticides</td>\n",
       "      <td>Sonipat</td>\n",
       "      <td>ABC Manufacturing</td>\n",
       "      <td>8692.110</td>\n",
       "      <td>2014Q3</td>\n",
       "    </tr>\n",
       "    <tr>\n",
       "      <th>...</th>\n",
       "      <td>...</td>\n",
       "      <td>...</td>\n",
       "      <td>...</td>\n",
       "      <td>...</td>\n",
       "      <td>...</td>\n",
       "      <td>...</td>\n",
       "    </tr>\n",
       "    <tr>\n",
       "      <th>2016-02-01</th>\n",
       "      <td>Punjab</td>\n",
       "      <td>Bactericides</td>\n",
       "      <td>Barnala</td>\n",
       "      <td>ABC Manufacturing</td>\n",
       "      <td>0.000</td>\n",
       "      <td>2015Q4</td>\n",
       "    </tr>\n",
       "    <tr>\n",
       "      <th>2016-12-01</th>\n",
       "      <td>Uttar Pradesh</td>\n",
       "      <td>Bactericides</td>\n",
       "      <td>Faizabad</td>\n",
       "      <td>ABC Manufacturing</td>\n",
       "      <td>0.000</td>\n",
       "      <td>2016Q3</td>\n",
       "    </tr>\n",
       "    <tr>\n",
       "      <th>2016-12-01</th>\n",
       "      <td>Uttar Pradesh</td>\n",
       "      <td>Bactericides</td>\n",
       "      <td>Basti</td>\n",
       "      <td>ABC Manufacturing</td>\n",
       "      <td>0.000</td>\n",
       "      <td>2016Q3</td>\n",
       "    </tr>\n",
       "    <tr>\n",
       "      <th>2016-12-01</th>\n",
       "      <td>Uttar Pradesh</td>\n",
       "      <td>Bactericides</td>\n",
       "      <td>Ballia</td>\n",
       "      <td>ABC Manufacturing</td>\n",
       "      <td>0.000</td>\n",
       "      <td>2016Q3</td>\n",
       "    </tr>\n",
       "    <tr>\n",
       "      <th>2016-12-01</th>\n",
       "      <td>Uttar Pradesh</td>\n",
       "      <td>Bactericides</td>\n",
       "      <td>Etah</td>\n",
       "      <td>ABC Manufacturing</td>\n",
       "      <td>0.000</td>\n",
       "      <td>2016Q3</td>\n",
       "    </tr>\n",
       "  </tbody>\n",
       "</table>\n",
       "<p>26443 rows × 6 columns</p>\n",
       "</div>"
      ],
      "text/plain": [
       "                    STATE            FG     DISTRICT            COMPANY  \\\n",
       "FIN_YEAR                                                                  \n",
       "2014-12-01        Haryana  Insecticides       Ambala  ABC Manufacturing   \n",
       "2014-12-01        Haryana  Insecticides  Yamunanagar  ABC Manufacturing   \n",
       "2014-12-01        Haryana  Insecticides       Karnal  ABC Manufacturing   \n",
       "2014-12-01        Haryana  Insecticides      Panipat  ABC Manufacturing   \n",
       "2014-12-01        Haryana  Insecticides      Sonipat  ABC Manufacturing   \n",
       "...                   ...           ...          ...                ...   \n",
       "2016-02-01         Punjab  Bactericides      Barnala  ABC Manufacturing   \n",
       "2016-12-01  Uttar Pradesh  Bactericides     Faizabad  ABC Manufacturing   \n",
       "2016-12-01  Uttar Pradesh  Bactericides        Basti  ABC Manufacturing   \n",
       "2016-12-01  Uttar Pradesh  Bactericides       Ballia  ABC Manufacturing   \n",
       "2016-12-01  Uttar Pradesh  Bactericides         Etah  ABC Manufacturing   \n",
       "\n",
       "                VALUE QUARTERS  \n",
       "FIN_YEAR                        \n",
       "2014-12-01   6019.380   2014Q3  \n",
       "2014-12-01    425.250   2014Q3  \n",
       "2014-12-01  14782.635   2014Q3  \n",
       "2014-12-01   4031.910   2014Q3  \n",
       "2014-12-01   8692.110   2014Q3  \n",
       "...               ...      ...  \n",
       "2016-02-01      0.000   2015Q4  \n",
       "2016-12-01      0.000   2016Q3  \n",
       "2016-12-01      0.000   2016Q3  \n",
       "2016-12-01      0.000   2016Q3  \n",
       "2016-12-01      0.000   2016Q3  \n",
       "\n",
       "[26443 rows x 6 columns]"
      ]
     },
     "execution_count": 70,
     "metadata": {},
     "output_type": "execute_result"
    }
   ],
   "source": [
    "ABC"
   ]
  },
  {
   "cell_type": "code",
   "execution_count": 71,
   "id": "4a35e6ea",
   "metadata": {},
   "outputs": [
    {
     "data": {
      "text/plain": [
       "[<matplotlib.lines.Line2D at 0x21e9e0a63a0>]"
      ]
     },
     "execution_count": 71,
     "metadata": {},
     "output_type": "execute_result"
    },
    {
     "data": {
      "image/png": "[encoded data removed]",
      "text/plain": [
       "<Figure size 432x288 with 1 Axes>"
      ]
     },
     "metadata": {
      "needs_background": "light"
     },
     "output_type": "display_data"
    }
   ],
   "source": [
    "ABC_STATE=ABC.groupby('STATE').sum()['VALUE'].round()\n",
    "\n",
    "plt.plot(ABC_STATE)"
   ]
  },
  {
   "cell_type": "code",
   "execution_count": 72,
   "id": "6d4ea088",
   "metadata": {},
   "outputs": [
    {
     "data": {
      "image/png": "[encoded data removed]",
      "text/plain": [
       "<Figure size 432x288 with 1 Axes>"
      ]
     },
     "metadata": {
      "needs_background": "light"
     },
     "output_type": "display_data"
    }
   ],
   "source": [
    "# State wise sales with chemicalfor ABC Manufacturing company\n",
    "DF2=pd.crosstab(ABC.STATE, ABC.FG)\n",
    "DF2.plot.bar();"
   ]
  },
  {
   "cell_type": "code",
   "execution_count": 73,
   "id": "616ef2a9",
   "metadata": {},
   "outputs": [
    {
     "data": {
      "text/plain": [
       "<AxesSubplot:xlabel='QUARTERS'>"
      ]
     },
     "execution_count": 73,
     "metadata": {},
     "output_type": "execute_result"
    },
    {
     "data": {
      "image/png": "[encoded data removed]",
      "text/plain": [
       "<Figure size 432x288 with 1 Axes>"
      ]
     },
     "metadata": {
      "needs_background": "light"
     },
     "output_type": "display_data"
    }
   ],
   "source": [
    "ABC_QUARTERS=ABC.groupby('QUARTERS').sum()['VALUE']\n",
    "ABC_QUARTERS.plot.bar()"
   ]
  },
  {
   "cell_type": "code",
   "execution_count": 74,
   "id": "d9d7c3d6",
   "metadata": {},
   "outputs": [],
   "source": [
    "ABC_data=ABC.groupby('QUARTERS')[\"VALUE\"].sum().reset_index().round()"
   ]
  },
  {
   "cell_type": "code",
   "execution_count": 75,
   "id": "04de53ad",
   "metadata": {},
   "outputs": [
    {
     "data": {
      "text/plain": [
       "<AxesSubplot:>"
      ]
     },
     "execution_count": 75,
     "metadata": {},
     "output_type": "execute_result"
    },
    {
     "data": {
      "image/png": "[encoded data removed]",
      "text/plain": [
       "<Figure size 432x288 with 1 Axes>"
      ]
     },
     "metadata": {
      "needs_background": "light"
     },
     "output_type": "display_data"
    }
   ],
   "source": [
    "ABC_data.plot()"
   ]
  },
  {
   "cell_type": "code",
   "execution_count": 76,
   "id": "89cae114",
   "metadata": {},
   "outputs": [],
   "source": [
    "ABC_data.set_index('QUARTERS', inplace= True)"
   ]
  },
  {
   "cell_type": "code",
   "execution_count": 77,
   "id": "7cc31041",
   "metadata": {},
   "outputs": [],
   "source": [
    "p=d=q=(0,2)"
   ]
  },
  {
   "cell_type": "code",
   "execution_count": 78,
   "id": "eeeefbbe",
   "metadata": {},
   "outputs": [
    {
     "name": "stderr",
     "output_type": "stream",
     "text": [
      "C:\\Users\\pc\\anaconda3\\lib\\site-packages\\statsmodels\\tsa\\base\\tsa_model.py:524: ValueWarning: No frequency information was provided, so inferred frequency QS-OCT will be used.\n",
      "  warnings.warn('No frequency information was'\n",
      "C:\\Users\\pc\\anaconda3\\lib\\site-packages\\statsmodels\\tsa\\base\\tsa_model.py:524: ValueWarning: No frequency information was provided, so inferred frequency QS-OCT will be used.\n",
      "  warnings.warn('No frequency information was'\n",
      "C:\\Users\\pc\\anaconda3\\lib\\site-packages\\statsmodels\\tsa\\base\\tsa_model.py:524: ValueWarning: No frequency information was provided, so inferred frequency QS-OCT will be used.\n",
      "  warnings.warn('No frequency information was'\n",
      "C:\\Users\\pc\\anaconda3\\lib\\site-packages\\statsmodels\\tsa\\base\\tsa_model.py:524: ValueWarning: No frequency information was provided, so inferred frequency QS-OCT will be used.\n",
      "  warnings.warn('No frequency information was'\n",
      "C:\\Users\\pc\\anaconda3\\lib\\site-packages\\statsmodels\\tsa\\statespace\\sarimax.py:1009: UserWarning: Non-invertible starting seasonal moving average Using zeros as starting parameters.\n",
      "  warn('Non-invertible starting seasonal moving average'\n",
      "C:\\Users\\pc\\anaconda3\\lib\\site-packages\\statsmodels\\tsa\\base\\tsa_model.py:524: ValueWarning: No frequency information was provided, so inferred frequency QS-OCT will be used.\n",
      "  warnings.warn('No frequency information was'\n",
      "C:\\Users\\pc\\anaconda3\\lib\\site-packages\\statsmodels\\tsa\\base\\tsa_model.py:524: ValueWarning: No frequency information was provided, so inferred frequency QS-OCT will be used.\n",
      "  warnings.warn('No frequency information was'\n",
      "C:\\Users\\pc\\anaconda3\\lib\\site-packages\\statsmodels\\tsa\\base\\tsa_model.py:524: ValueWarning: No frequency information was provided, so inferred frequency QS-OCT will be used.\n",
      "  warnings.warn('No frequency information was'\n",
      "C:\\Users\\pc\\anaconda3\\lib\\site-packages\\statsmodels\\tsa\\base\\tsa_model.py:524: ValueWarning: No frequency information was provided, so inferred frequency QS-OCT will be used.\n",
      "  warnings.warn('No frequency information was'\n",
      "C:\\Users\\pc\\anaconda3\\lib\\site-packages\\statsmodels\\tsa\\statespace\\sarimax.py:866: UserWarning: Too few observations to estimate starting parameters for seasonal ARMA. All parameters except for variances will be set to zeros.\n",
      "  warn('Too few observations to estimate starting parameters%s.'\n",
      "C:\\Users\\pc\\anaconda3\\lib\\site-packages\\statsmodels\\tsa\\base\\tsa_model.py:524: ValueWarning: No frequency information was provided, so inferred frequency QS-OCT will be used.\n",
      "  warnings.warn('No frequency information was'\n"
     ]
    },
    {
     "name": "stdout",
     "output_type": "stream",
     "text": [
      "ARIMA(0, 0, 0)x(0, 0, 0, 4)4-AIC:528.3448573834853\n",
      "ARIMA(0, 0, 0)x(0, 0, 1, 4)4-AIC:584.9105571194801\n",
      "ARIMA(0, 0, 0)x(0, 1, 0, 4)4-AIC:369.8319725526373\n",
      "ARIMA(0, 0, 0)x(0, 1, 1, 4)4-AIC:371.2188712672597\n",
      "ARIMA(0, 0, 0)x(1, 0, 0, 4)4-AIC:502.2801767101896\n"
     ]
    },
    {
     "name": "stderr",
     "output_type": "stream",
     "text": [
      "C:\\Users\\pc\\anaconda3\\lib\\site-packages\\statsmodels\\tsa\\base\\tsa_model.py:524: ValueWarning: No frequency information was provided, so inferred frequency QS-OCT will be used.\n",
      "  warnings.warn('No frequency information was'\n",
      "C:\\Users\\pc\\anaconda3\\lib\\site-packages\\statsmodels\\tsa\\base\\tsa_model.py:524: ValueWarning: No frequency information was provided, so inferred frequency QS-OCT will be used.\n",
      "  warnings.warn('No frequency information was'\n",
      "C:\\Users\\pc\\anaconda3\\lib\\site-packages\\statsmodels\\tsa\\base\\tsa_model.py:524: ValueWarning: No frequency information was provided, so inferred frequency QS-OCT will be used.\n",
      "  warnings.warn('No frequency information was'\n",
      "C:\\Users\\pc\\anaconda3\\lib\\site-packages\\statsmodels\\tsa\\base\\tsa_model.py:524: ValueWarning: No frequency information was provided, so inferred frequency QS-OCT will be used.\n",
      "  warnings.warn('No frequency information was'\n",
      "C:\\Users\\pc\\anaconda3\\lib\\site-packages\\statsmodels\\tsa\\base\\tsa_model.py:524: ValueWarning: No frequency information was provided, so inferred frequency QS-OCT will be used.\n",
      "  warnings.warn('No frequency information was'\n",
      "C:\\Users\\pc\\anaconda3\\lib\\site-packages\\statsmodels\\tsa\\base\\tsa_model.py:524: ValueWarning: No frequency information was provided, so inferred frequency QS-OCT will be used.\n",
      "  warnings.warn('No frequency information was'\n",
      "C:\\Users\\pc\\anaconda3\\lib\\site-packages\\statsmodels\\tsa\\base\\tsa_model.py:524: ValueWarning: No frequency information was provided, so inferred frequency QS-OCT will be used.\n",
      "  warnings.warn('No frequency information was'\n"
     ]
    },
    {
     "name": "stdout",
     "output_type": "stream",
     "text": [
      "ARIMA(0, 0, 0)x(1, 0, 1, 4)4-AIC:504.3389714565004\n",
      "ARIMA(0, 0, 0)x(1, 1, 0, 4)4-AIC:371.37431350028396\n",
      "ARIMA(0, 0, 0)x(1, 1, 1, 4)4-AIC:372.6348690643761\n",
      "ARIMA(0, 0, 1)x(0, 0, 0, 4)4-AIC:521.5123876550739\n"
     ]
    },
    {
     "name": "stderr",
     "output_type": "stream",
     "text": [
      "C:\\Users\\pc\\anaconda3\\lib\\site-packages\\statsmodels\\tsa\\base\\tsa_model.py:524: ValueWarning: No frequency information was provided, so inferred frequency QS-OCT will be used.\n",
      "  warnings.warn('No frequency information was'\n",
      "C:\\Users\\pc\\anaconda3\\lib\\site-packages\\statsmodels\\tsa\\base\\tsa_model.py:524: ValueWarning: No frequency information was provided, so inferred frequency QS-OCT will be used.\n",
      "  warnings.warn('No frequency information was'\n",
      "C:\\Users\\pc\\anaconda3\\lib\\site-packages\\statsmodels\\tsa\\base\\tsa_model.py:524: ValueWarning: No frequency information was provided, so inferred frequency QS-OCT will be used.\n",
      "  warnings.warn('No frequency information was'\n",
      "C:\\Users\\pc\\anaconda3\\lib\\site-packages\\statsmodels\\tsa\\base\\tsa_model.py:524: ValueWarning: No frequency information was provided, so inferred frequency QS-OCT will be used.\n",
      "  warnings.warn('No frequency information was'\n",
      "C:\\Users\\pc\\anaconda3\\lib\\site-packages\\statsmodels\\tsa\\base\\tsa_model.py:524: ValueWarning: No frequency information was provided, so inferred frequency QS-OCT will be used.\n",
      "  warnings.warn('No frequency information was'\n",
      "C:\\Users\\pc\\anaconda3\\lib\\site-packages\\statsmodels\\tsa\\base\\tsa_model.py:524: ValueWarning: No frequency information was provided, so inferred frequency QS-OCT will be used.\n",
      "  warnings.warn('No frequency information was'\n",
      "C:\\Users\\pc\\anaconda3\\lib\\site-packages\\statsmodels\\tsa\\base\\tsa_model.py:524: ValueWarning: No frequency information was provided, so inferred frequency QS-OCT will be used.\n",
      "  warnings.warn('No frequency information was'\n",
      "C:\\Users\\pc\\anaconda3\\lib\\site-packages\\statsmodels\\tsa\\base\\tsa_model.py:524: ValueWarning: No frequency information was provided, so inferred frequency QS-OCT will be used.\n",
      "  warnings.warn('No frequency information was'\n",
      "C:\\Users\\pc\\anaconda3\\lib\\site-packages\\statsmodels\\tsa\\base\\tsa_model.py:524: ValueWarning: No frequency information was provided, so inferred frequency QS-OCT will be used.\n",
      "  warnings.warn('No frequency information was'\n",
      "C:\\Users\\pc\\anaconda3\\lib\\site-packages\\statsmodels\\tsa\\base\\tsa_model.py:524: ValueWarning: No frequency information was provided, so inferred frequency QS-OCT will be used.\n",
      "  warnings.warn('No frequency information was'\n"
     ]
    },
    {
     "name": "stdout",
     "output_type": "stream",
     "text": [
      "ARIMA(0, 0, 1)x(0, 0, 1, 4)4-AIC:521.5967298090885\n",
      "ARIMA(0, 0, 1)x(0, 1, 0, 4)4-AIC:370.4816070894444\n",
      "ARIMA(0, 0, 1)x(0, 1, 1, 4)4-AIC:372.4360316441873\n",
      "ARIMA(0, 0, 1)x(1, 0, 0, 4)4-AIC:520.6777383660417\n",
      "ARIMA(0, 0, 1)x(1, 0, 1, 4)4-AIC:522.6157036279831\n"
     ]
    },
    {
     "name": "stderr",
     "output_type": "stream",
     "text": [
      "C:\\Users\\pc\\anaconda3\\lib\\site-packages\\statsmodels\\tsa\\base\\tsa_model.py:524: ValueWarning: No frequency information was provided, so inferred frequency QS-OCT will be used.\n",
      "  warnings.warn('No frequency information was'\n",
      "C:\\Users\\pc\\anaconda3\\lib\\site-packages\\statsmodels\\tsa\\base\\tsa_model.py:524: ValueWarning: No frequency information was provided, so inferred frequency QS-OCT will be used.\n",
      "  warnings.warn('No frequency information was'\n",
      "C:\\Users\\pc\\anaconda3\\lib\\site-packages\\statsmodels\\tsa\\base\\tsa_model.py:524: ValueWarning: No frequency information was provided, so inferred frequency QS-OCT will be used.\n",
      "  warnings.warn('No frequency information was'\n",
      "C:\\Users\\pc\\anaconda3\\lib\\site-packages\\statsmodels\\tsa\\base\\tsa_model.py:524: ValueWarning: No frequency information was provided, so inferred frequency QS-OCT will be used.\n",
      "  warnings.warn('No frequency information was'\n",
      "C:\\Users\\pc\\anaconda3\\lib\\site-packages\\statsmodels\\tsa\\base\\tsa_model.py:524: ValueWarning: No frequency information was provided, so inferred frequency QS-OCT will be used.\n",
      "  warnings.warn('No frequency information was'\n",
      "C:\\Users\\pc\\anaconda3\\lib\\site-packages\\statsmodels\\tsa\\base\\tsa_model.py:524: ValueWarning: No frequency information was provided, so inferred frequency QS-OCT will be used.\n",
      "  warnings.warn('No frequency information was'\n"
     ]
    },
    {
     "name": "stdout",
     "output_type": "stream",
     "text": [
      "ARIMA(0, 0, 1)x(1, 1, 0, 4)4-AIC:372.4570107916706\n",
      "ARIMA(0, 0, 1)x(1, 1, 1, 4)4-AIC:373.2789311411551\n",
      "ARIMA(0, 1, 0)x(0, 0, 0, 4)4-AIC:464.77041303272176\n"
     ]
    },
    {
     "name": "stderr",
     "output_type": "stream",
     "text": [
      "C:\\Users\\pc\\anaconda3\\lib\\site-packages\\statsmodels\\tsa\\base\\tsa_model.py:524: ValueWarning: No frequency information was provided, so inferred frequency QS-OCT will be used.\n",
      "  warnings.warn('No frequency information was'\n",
      "C:\\Users\\pc\\anaconda3\\lib\\site-packages\\statsmodels\\tsa\\base\\tsa_model.py:524: ValueWarning: No frequency information was provided, so inferred frequency QS-OCT will be used.\n",
      "  warnings.warn('No frequency information was'\n",
      "C:\\Users\\pc\\anaconda3\\lib\\site-packages\\statsmodels\\tsa\\base\\tsa_model.py:524: ValueWarning: No frequency information was provided, so inferred frequency QS-OCT will be used.\n",
      "  warnings.warn('No frequency information was'\n",
      "C:\\Users\\pc\\anaconda3\\lib\\site-packages\\statsmodels\\tsa\\base\\tsa_model.py:524: ValueWarning: No frequency information was provided, so inferred frequency QS-OCT will be used.\n",
      "  warnings.warn('No frequency information was'\n",
      "C:\\Users\\pc\\anaconda3\\lib\\site-packages\\statsmodels\\tsa\\base\\tsa_model.py:524: ValueWarning: No frequency information was provided, so inferred frequency QS-OCT will be used.\n",
      "  warnings.warn('No frequency information was'\n",
      "C:\\Users\\pc\\anaconda3\\lib\\site-packages\\statsmodels\\tsa\\base\\tsa_model.py:524: ValueWarning: No frequency information was provided, so inferred frequency QS-OCT will be used.\n",
      "  warnings.warn('No frequency information was'\n",
      "C:\\Users\\pc\\anaconda3\\lib\\site-packages\\statsmodels\\tsa\\base\\tsa_model.py:524: ValueWarning: No frequency information was provided, so inferred frequency QS-OCT will be used.\n",
      "  warnings.warn('No frequency information was'\n",
      "C:\\Users\\pc\\anaconda3\\lib\\site-packages\\statsmodels\\tsa\\base\\tsa_model.py:524: ValueWarning: No frequency information was provided, so inferred frequency QS-OCT will be used.\n",
      "  warnings.warn('No frequency information was'\n",
      "C:\\Users\\pc\\anaconda3\\lib\\site-packages\\statsmodels\\tsa\\base\\tsa_model.py:524: ValueWarning: No frequency information was provided, so inferred frequency QS-OCT will be used.\n",
      "  warnings.warn('No frequency information was'\n",
      "C:\\Users\\pc\\anaconda3\\lib\\site-packages\\statsmodels\\tsa\\base\\tsa_model.py:524: ValueWarning: No frequency information was provided, so inferred frequency QS-OCT will be used.\n",
      "  warnings.warn('No frequency information was'\n"
     ]
    },
    {
     "name": "stdout",
     "output_type": "stream",
     "text": [
      "ARIMA(0, 1, 0)x(0, 0, 1, 4)4-AIC:475.1262282560587\n",
      "ARIMA(0, 1, 0)x(0, 1, 0, 4)4-AIC:342.1912557978558\n",
      "ARIMA(0, 1, 0)x(0, 1, 1, 4)4-AIC:342.6351340476493\n",
      "ARIMA(0, 1, 0)x(1, 0, 0, 4)4-AIC:466.43858740194787\n",
      "ARIMA(0, 1, 0)x(1, 0, 1, 4)4-AIC:468.54878201416585\n"
     ]
    },
    {
     "name": "stderr",
     "output_type": "stream",
     "text": [
      "C:\\Users\\pc\\anaconda3\\lib\\site-packages\\statsmodels\\tsa\\base\\tsa_model.py:524: ValueWarning: No frequency information was provided, so inferred frequency QS-OCT will be used.\n",
      "  warnings.warn('No frequency information was'\n",
      "C:\\Users\\pc\\anaconda3\\lib\\site-packages\\statsmodels\\tsa\\base\\tsa_model.py:524: ValueWarning: No frequency information was provided, so inferred frequency QS-OCT will be used.\n",
      "  warnings.warn('No frequency information was'\n",
      "C:\\Users\\pc\\anaconda3\\lib\\site-packages\\statsmodels\\tsa\\base\\tsa_model.py:524: ValueWarning: No frequency information was provided, so inferred frequency QS-OCT will be used.\n",
      "  warnings.warn('No frequency information was'\n",
      "C:\\Users\\pc\\anaconda3\\lib\\site-packages\\statsmodels\\tsa\\base\\tsa_model.py:524: ValueWarning: No frequency information was provided, so inferred frequency QS-OCT will be used.\n",
      "  warnings.warn('No frequency information was'\n",
      "C:\\Users\\pc\\anaconda3\\lib\\site-packages\\statsmodels\\tsa\\base\\tsa_model.py:524: ValueWarning: No frequency information was provided, so inferred frequency QS-OCT will be used.\n",
      "  warnings.warn('No frequency information was'\n",
      "C:\\Users\\pc\\anaconda3\\lib\\site-packages\\statsmodels\\tsa\\base\\tsa_model.py:524: ValueWarning: No frequency information was provided, so inferred frequency QS-OCT will be used.\n",
      "  warnings.warn('No frequency information was'\n"
     ]
    },
    {
     "name": "stdout",
     "output_type": "stream",
     "text": [
      "ARIMA(0, 1, 0)x(1, 1, 0, 4)4-AIC:342.4149891607781\n",
      "ARIMA(0, 1, 0)x(1, 1, 1, 4)4-AIC:342.29616517657763\n",
      "ARIMA(0, 1, 1)x(0, 0, 0, 4)4-AIC:463.71183274536105\n",
      "ARIMA(0, 1, 1)x(0, 0, 1, 4)4-AIC:465.27657066069753\n"
     ]
    },
    {
     "name": "stderr",
     "output_type": "stream",
     "text": [
      "C:\\Users\\pc\\anaconda3\\lib\\site-packages\\statsmodels\\tsa\\base\\tsa_model.py:524: ValueWarning: No frequency information was provided, so inferred frequency QS-OCT will be used.\n",
      "  warnings.warn('No frequency information was'\n",
      "C:\\Users\\pc\\anaconda3\\lib\\site-packages\\statsmodels\\tsa\\base\\tsa_model.py:524: ValueWarning: No frequency information was provided, so inferred frequency QS-OCT will be used.\n",
      "  warnings.warn('No frequency information was'\n",
      "C:\\Users\\pc\\anaconda3\\lib\\site-packages\\statsmodels\\tsa\\base\\tsa_model.py:524: ValueWarning: No frequency information was provided, so inferred frequency QS-OCT will be used.\n",
      "  warnings.warn('No frequency information was'\n",
      "C:\\Users\\pc\\anaconda3\\lib\\site-packages\\statsmodels\\tsa\\base\\tsa_model.py:524: ValueWarning: No frequency information was provided, so inferred frequency QS-OCT will be used.\n",
      "  warnings.warn('No frequency information was'\n",
      "C:\\Users\\pc\\anaconda3\\lib\\site-packages\\statsmodels\\tsa\\base\\tsa_model.py:524: ValueWarning: No frequency information was provided, so inferred frequency QS-OCT will be used.\n",
      "  warnings.warn('No frequency information was'\n",
      "C:\\Users\\pc\\anaconda3\\lib\\site-packages\\statsmodels\\tsa\\base\\tsa_model.py:524: ValueWarning: No frequency information was provided, so inferred frequency QS-OCT will be used.\n",
      "  warnings.warn('No frequency information was'\n",
      "C:\\Users\\pc\\anaconda3\\lib\\site-packages\\statsmodels\\tsa\\base\\tsa_model.py:524: ValueWarning: No frequency information was provided, so inferred frequency QS-OCT will be used.\n",
      "  warnings.warn('No frequency information was'\n",
      "C:\\Users\\pc\\anaconda3\\lib\\site-packages\\statsmodels\\tsa\\base\\tsa_model.py:524: ValueWarning: No frequency information was provided, so inferred frequency QS-OCT will be used.\n",
      "  warnings.warn('No frequency information was'\n",
      "C:\\Users\\pc\\anaconda3\\lib\\site-packages\\statsmodels\\tsa\\base\\tsa_model.py:524: ValueWarning: No frequency information was provided, so inferred frequency QS-OCT will be used.\n",
      "  warnings.warn('No frequency information was'\n",
      "C:\\Users\\pc\\anaconda3\\lib\\site-packages\\statsmodels\\tsa\\base\\tsa_model.py:524: ValueWarning: No frequency information was provided, so inferred frequency QS-OCT will be used.\n",
      "  warnings.warn('No frequency information was'\n"
     ]
    },
    {
     "name": "stdout",
     "output_type": "stream",
     "text": [
      "ARIMA(0, 1, 1)x(0, 1, 0, 4)4-AIC:341.49547878503205\n",
      "ARIMA(0, 1, 1)x(0, 1, 1, 4)4-AIC:343.37890257945617\n",
      "ARIMA(0, 1, 1)x(1, 0, 0, 4)4-AIC:465.2404373189388\n",
      "ARIMA(0, 1, 1)x(1, 0, 1, 4)4-AIC:467.2404092302032\n"
     ]
    },
    {
     "name": "stderr",
     "output_type": "stream",
     "text": [
      "C:\\Users\\pc\\anaconda3\\lib\\site-packages\\statsmodels\\tsa\\base\\tsa_model.py:524: ValueWarning: No frequency information was provided, so inferred frequency QS-OCT will be used.\n",
      "  warnings.warn('No frequency information was'\n",
      "C:\\Users\\pc\\anaconda3\\lib\\site-packages\\statsmodels\\tsa\\base\\tsa_model.py:524: ValueWarning: No frequency information was provided, so inferred frequency QS-OCT will be used.\n",
      "  warnings.warn('No frequency information was'\n",
      "C:\\Users\\pc\\anaconda3\\lib\\site-packages\\statsmodels\\tsa\\base\\tsa_model.py:524: ValueWarning: No frequency information was provided, so inferred frequency QS-OCT will be used.\n",
      "  warnings.warn('No frequency information was'\n",
      "C:\\Users\\pc\\anaconda3\\lib\\site-packages\\statsmodels\\tsa\\base\\tsa_model.py:524: ValueWarning: No frequency information was provided, so inferred frequency QS-OCT will be used.\n",
      "  warnings.warn('No frequency information was'\n",
      "C:\\Users\\pc\\anaconda3\\lib\\site-packages\\statsmodels\\tsa\\base\\tsa_model.py:524: ValueWarning: No frequency information was provided, so inferred frequency QS-OCT will be used.\n",
      "  warnings.warn('No frequency information was'\n",
      "C:\\Users\\pc\\anaconda3\\lib\\site-packages\\statsmodels\\tsa\\base\\tsa_model.py:524: ValueWarning: No frequency information was provided, so inferred frequency QS-OCT will be used.\n",
      "  warnings.warn('No frequency information was'\n"
     ]
    },
    {
     "name": "stdout",
     "output_type": "stream",
     "text": [
      "ARIMA(0, 1, 1)x(1, 1, 0, 4)4-AIC:343.31898443199486\n",
      "ARIMA(0, 1, 1)x(1, 1, 1, 4)4-AIC:344.28322570291004\n"
     ]
    },
    {
     "name": "stderr",
     "output_type": "stream",
     "text": [
      "C:\\Users\\pc\\anaconda3\\lib\\site-packages\\statsmodels\\tsa\\base\\tsa_model.py:524: ValueWarning: No frequency information was provided, so inferred frequency QS-OCT will be used.\n",
      "  warnings.warn('No frequency information was'\n",
      "C:\\Users\\pc\\anaconda3\\lib\\site-packages\\statsmodels\\tsa\\base\\tsa_model.py:524: ValueWarning: No frequency information was provided, so inferred frequency QS-OCT will be used.\n",
      "  warnings.warn('No frequency information was'\n",
      "C:\\Users\\pc\\anaconda3\\lib\\site-packages\\statsmodels\\tsa\\base\\tsa_model.py:524: ValueWarning: No frequency information was provided, so inferred frequency QS-OCT will be used.\n",
      "  warnings.warn('No frequency information was'\n",
      "C:\\Users\\pc\\anaconda3\\lib\\site-packages\\statsmodels\\tsa\\base\\tsa_model.py:524: ValueWarning: No frequency information was provided, so inferred frequency QS-OCT will be used.\n",
      "  warnings.warn('No frequency information was'\n",
      "C:\\Users\\pc\\anaconda3\\lib\\site-packages\\statsmodels\\tsa\\base\\tsa_model.py:524: ValueWarning: No frequency information was provided, so inferred frequency QS-OCT will be used.\n",
      "  warnings.warn('No frequency information was'\n",
      "C:\\Users\\pc\\anaconda3\\lib\\site-packages\\statsmodels\\tsa\\base\\tsa_model.py:524: ValueWarning: No frequency information was provided, so inferred frequency QS-OCT will be used.\n",
      "  warnings.warn('No frequency information was'\n",
      "C:\\Users\\pc\\anaconda3\\lib\\site-packages\\statsmodels\\tsa\\base\\tsa_model.py:524: ValueWarning: No frequency information was provided, so inferred frequency QS-OCT will be used.\n",
      "  warnings.warn('No frequency information was'\n",
      "C:\\Users\\pc\\anaconda3\\lib\\site-packages\\statsmodels\\tsa\\base\\tsa_model.py:524: ValueWarning: No frequency information was provided, so inferred frequency QS-OCT will be used.\n",
      "  warnings.warn('No frequency information was'\n",
      "C:\\Users\\pc\\anaconda3\\lib\\site-packages\\statsmodels\\tsa\\base\\tsa_model.py:524: ValueWarning: No frequency information was provided, so inferred frequency QS-OCT will be used.\n",
      "  warnings.warn('No frequency information was'\n"
     ]
    },
    {
     "name": "stdout",
     "output_type": "stream",
     "text": [
      "ARIMA(1, 0, 0)x(0, 0, 0, 4)4-AIC:499.5770587939343\n",
      "ARIMA(1, 0, 0)x(0, 0, 1, 4)4-AIC:500.3013069222021\n",
      "ARIMA(1, 0, 0)x(0, 1, 0, 4)4-AIC:369.77009564760033\n",
      "ARIMA(1, 0, 0)x(0, 1, 1, 4)4-AIC:371.05737421715986\n"
     ]
    },
    {
     "name": "stderr",
     "output_type": "stream",
     "text": [
      "C:\\Users\\pc\\anaconda3\\lib\\site-packages\\statsmodels\\tsa\\base\\tsa_model.py:524: ValueWarning: No frequency information was provided, so inferred frequency QS-OCT will be used.\n",
      "  warnings.warn('No frequency information was'\n",
      "C:\\Users\\pc\\anaconda3\\lib\\site-packages\\statsmodels\\tsa\\base\\tsa_model.py:524: ValueWarning: No frequency information was provided, so inferred frequency QS-OCT will be used.\n",
      "  warnings.warn('No frequency information was'\n",
      "C:\\Users\\pc\\anaconda3\\lib\\site-packages\\statsmodels\\tsa\\base\\tsa_model.py:524: ValueWarning: No frequency information was provided, so inferred frequency QS-OCT will be used.\n",
      "  warnings.warn('No frequency information was'\n",
      "C:\\Users\\pc\\anaconda3\\lib\\site-packages\\statsmodels\\tsa\\base\\tsa_model.py:524: ValueWarning: No frequency information was provided, so inferred frequency QS-OCT will be used.\n",
      "  warnings.warn('No frequency information was'\n",
      "C:\\Users\\pc\\anaconda3\\lib\\site-packages\\statsmodels\\tsa\\base\\tsa_model.py:524: ValueWarning: No frequency information was provided, so inferred frequency QS-OCT will be used.\n",
      "  warnings.warn('No frequency information was'\n",
      "C:\\Users\\pc\\anaconda3\\lib\\site-packages\\statsmodels\\tsa\\base\\tsa_model.py:524: ValueWarning: No frequency information was provided, so inferred frequency QS-OCT will be used.\n",
      "  warnings.warn('No frequency information was'\n"
     ]
    },
    {
     "name": "stdout",
     "output_type": "stream",
     "text": [
      "ARIMA(1, 0, 0)x(1, 0, 0, 4)4-AIC:498.49976060607236\n",
      "ARIMA(1, 0, 0)x(1, 0, 1, 4)4-AIC:499.8186987847078\n",
      "ARIMA(1, 0, 0)x(1, 1, 0, 4)4-AIC:371.26243657066755\n"
     ]
    },
    {
     "name": "stderr",
     "output_type": "stream",
     "text": [
      "C:\\Users\\pc\\anaconda3\\lib\\site-packages\\statsmodels\\tsa\\base\\tsa_model.py:524: ValueWarning: No frequency information was provided, so inferred frequency QS-OCT will be used.\n",
      "  warnings.warn('No frequency information was'\n",
      "C:\\Users\\pc\\anaconda3\\lib\\site-packages\\statsmodels\\tsa\\base\\tsa_model.py:524: ValueWarning: No frequency information was provided, so inferred frequency QS-OCT will be used.\n",
      "  warnings.warn('No frequency information was'\n",
      "C:\\Users\\pc\\anaconda3\\lib\\site-packages\\statsmodels\\tsa\\base\\tsa_model.py:524: ValueWarning: No frequency information was provided, so inferred frequency QS-OCT will be used.\n",
      "  warnings.warn('No frequency information was'\n",
      "C:\\Users\\pc\\anaconda3\\lib\\site-packages\\statsmodels\\tsa\\base\\tsa_model.py:524: ValueWarning: No frequency information was provided, so inferred frequency QS-OCT will be used.\n",
      "  warnings.warn('No frequency information was'\n",
      "C:\\Users\\pc\\anaconda3\\lib\\site-packages\\statsmodels\\tsa\\base\\tsa_model.py:524: ValueWarning: No frequency information was provided, so inferred frequency QS-OCT will be used.\n",
      "  warnings.warn('No frequency information was'\n"
     ]
    },
    {
     "name": "stdout",
     "output_type": "stream",
     "text": [
      "ARIMA(1, 0, 0)x(1, 1, 1, 4)4-AIC:372.1924383284481\n",
      "ARIMA(1, 0, 1)x(0, 0, 0, 4)4-AIC:498.8418723379406\n",
      "ARIMA(1, 0, 1)x(0, 0, 1, 4)4-AIC:499.27449454249535\n",
      "ARIMA(1, 0, 1)x(0, 1, 0, 4)4-AIC:371.23289692707016\n"
     ]
    },
    {
     "name": "stderr",
     "output_type": "stream",
     "text": [
      "C:\\Users\\pc\\anaconda3\\lib\\site-packages\\statsmodels\\tsa\\base\\tsa_model.py:524: ValueWarning: No frequency information was provided, so inferred frequency QS-OCT will be used.\n",
      "  warnings.warn('No frequency information was'\n",
      "C:\\Users\\pc\\anaconda3\\lib\\site-packages\\statsmodels\\tsa\\base\\tsa_model.py:524: ValueWarning: No frequency information was provided, so inferred frequency QS-OCT will be used.\n",
      "  warnings.warn('No frequency information was'\n",
      "C:\\Users\\pc\\anaconda3\\lib\\site-packages\\statsmodels\\tsa\\base\\tsa_model.py:524: ValueWarning: No frequency information was provided, so inferred frequency QS-OCT will be used.\n",
      "  warnings.warn('No frequency information was'\n",
      "C:\\Users\\pc\\anaconda3\\lib\\site-packages\\statsmodels\\tsa\\base\\tsa_model.py:524: ValueWarning: No frequency information was provided, so inferred frequency QS-OCT will be used.\n",
      "  warnings.warn('No frequency information was'\n",
      "C:\\Users\\pc\\anaconda3\\lib\\site-packages\\statsmodels\\tsa\\base\\tsa_model.py:524: ValueWarning: No frequency information was provided, so inferred frequency QS-OCT will be used.\n",
      "  warnings.warn('No frequency information was'\n",
      "C:\\Users\\pc\\anaconda3\\lib\\site-packages\\statsmodels\\tsa\\base\\tsa_model.py:524: ValueWarning: No frequency information was provided, so inferred frequency QS-OCT will be used.\n",
      "  warnings.warn('No frequency information was'\n"
     ]
    },
    {
     "name": "stdout",
     "output_type": "stream",
     "text": [
      "ARIMA(1, 0, 1)x(0, 1, 1, 4)4-AIC:372.3154723784265\n",
      "ARIMA(1, 0, 1)x(1, 0, 0, 4)4-AIC:498.8455346216432\n"
     ]
    },
    {
     "name": "stderr",
     "output_type": "stream",
     "text": [
      "C:\\Users\\pc\\anaconda3\\lib\\site-packages\\statsmodels\\tsa\\base\\tsa_model.py:524: ValueWarning: No frequency information was provided, so inferred frequency QS-OCT will be used.\n",
      "  warnings.warn('No frequency information was'\n",
      "C:\\Users\\pc\\anaconda3\\lib\\site-packages\\statsmodels\\tsa\\base\\tsa_model.py:524: ValueWarning: No frequency information was provided, so inferred frequency QS-OCT will be used.\n",
      "  warnings.warn('No frequency information was'\n",
      "C:\\Users\\pc\\anaconda3\\lib\\site-packages\\statsmodels\\tsa\\base\\tsa_model.py:524: ValueWarning: No frequency information was provided, so inferred frequency QS-OCT will be used.\n",
      "  warnings.warn('No frequency information was'\n",
      "C:\\Users\\pc\\anaconda3\\lib\\site-packages\\statsmodels\\tsa\\base\\tsa_model.py:524: ValueWarning: No frequency information was provided, so inferred frequency QS-OCT will be used.\n",
      "  warnings.warn('No frequency information was'\n"
     ]
    },
    {
     "name": "stdout",
     "output_type": "stream",
     "text": [
      "ARIMA(1, 0, 1)x(1, 0, 1, 4)4-AIC:500.2811600945148\n",
      "ARIMA(1, 0, 1)x(1, 1, 0, 4)4-AIC:372.6396359200832\n",
      "ARIMA(1, 0, 1)x(1, 1, 1, 4)4-AIC:373.56825113153076\n"
     ]
    },
    {
     "name": "stderr",
     "output_type": "stream",
     "text": [
      "C:\\Users\\pc\\anaconda3\\lib\\site-packages\\statsmodels\\tsa\\base\\tsa_model.py:524: ValueWarning: No frequency information was provided, so inferred frequency QS-OCT will be used.\n",
      "  warnings.warn('No frequency information was'\n",
      "C:\\Users\\pc\\anaconda3\\lib\\site-packages\\statsmodels\\tsa\\base\\tsa_model.py:524: ValueWarning: No frequency information was provided, so inferred frequency QS-OCT will be used.\n",
      "  warnings.warn('No frequency information was'\n",
      "C:\\Users\\pc\\anaconda3\\lib\\site-packages\\statsmodels\\tsa\\base\\tsa_model.py:524: ValueWarning: No frequency information was provided, so inferred frequency QS-OCT will be used.\n",
      "  warnings.warn('No frequency information was'\n",
      "C:\\Users\\pc\\anaconda3\\lib\\site-packages\\statsmodels\\tsa\\base\\tsa_model.py:524: ValueWarning: No frequency information was provided, so inferred frequency QS-OCT will be used.\n",
      "  warnings.warn('No frequency information was'\n",
      "C:\\Users\\pc\\anaconda3\\lib\\site-packages\\statsmodels\\tsa\\base\\tsa_model.py:524: ValueWarning: No frequency information was provided, so inferred frequency QS-OCT will be used.\n",
      "  warnings.warn('No frequency information was'\n",
      "C:\\Users\\pc\\anaconda3\\lib\\site-packages\\statsmodels\\tsa\\base\\tsa_model.py:524: ValueWarning: No frequency information was provided, so inferred frequency QS-OCT will be used.\n",
      "  warnings.warn('No frequency information was'\n",
      "C:\\Users\\pc\\anaconda3\\lib\\site-packages\\statsmodels\\tsa\\base\\tsa_model.py:524: ValueWarning: No frequency information was provided, so inferred frequency QS-OCT will be used.\n",
      "  warnings.warn('No frequency information was'\n"
     ]
    },
    {
     "name": "stdout",
     "output_type": "stream",
     "text": [
      "ARIMA(1, 1, 0)x(0, 0, 0, 4)4-AIC:464.1912123118659\n",
      "ARIMA(1, 1, 0)x(0, 0, 1, 4)4-AIC:465.48555050127396\n",
      "ARIMA(1, 1, 0)x(0, 1, 0, 4)4-AIC:340.52372702252416\n",
      "ARIMA(1, 1, 0)x(0, 1, 1, 4)4-AIC:342.51057466107613\n",
      "ARIMA(1, 1, 0)x(1, 0, 0, 4)4-AIC:465.3845983678623\n"
     ]
    },
    {
     "name": "stderr",
     "output_type": "stream",
     "text": [
      "C:\\Users\\pc\\anaconda3\\lib\\site-packages\\statsmodels\\tsa\\base\\tsa_model.py:524: ValueWarning: No frequency information was provided, so inferred frequency QS-OCT will be used.\n",
      "  warnings.warn('No frequency information was'\n",
      "C:\\Users\\pc\\anaconda3\\lib\\site-packages\\statsmodels\\tsa\\base\\tsa_model.py:524: ValueWarning: No frequency information was provided, so inferred frequency QS-OCT will be used.\n",
      "  warnings.warn('No frequency information was'\n",
      "C:\\Users\\pc\\anaconda3\\lib\\site-packages\\statsmodels\\tsa\\base\\tsa_model.py:524: ValueWarning: No frequency information was provided, so inferred frequency QS-OCT will be used.\n",
      "  warnings.warn('No frequency information was'\n",
      "C:\\Users\\pc\\anaconda3\\lib\\site-packages\\statsmodels\\tsa\\base\\tsa_model.py:524: ValueWarning: No frequency information was provided, so inferred frequency QS-OCT will be used.\n",
      "  warnings.warn('No frequency information was'\n",
      "C:\\Users\\pc\\anaconda3\\lib\\site-packages\\statsmodels\\tsa\\base\\tsa_model.py:524: ValueWarning: No frequency information was provided, so inferred frequency QS-OCT will be used.\n",
      "  warnings.warn('No frequency information was'\n",
      "C:\\Users\\pc\\anaconda3\\lib\\site-packages\\statsmodels\\tsa\\base\\tsa_model.py:524: ValueWarning: No frequency information was provided, so inferred frequency QS-OCT will be used.\n",
      "  warnings.warn('No frequency information was'\n",
      "C:\\Users\\pc\\anaconda3\\lib\\site-packages\\statsmodels\\tsa\\base\\tsa_model.py:524: ValueWarning: No frequency information was provided, so inferred frequency QS-OCT will be used.\n",
      "  warnings.warn('No frequency information was'\n",
      "C:\\Users\\pc\\anaconda3\\lib\\site-packages\\statsmodels\\tsa\\base\\tsa_model.py:524: ValueWarning: No frequency information was provided, so inferred frequency QS-OCT will be used.\n",
      "  warnings.warn('No frequency information was'\n",
      "C:\\Users\\pc\\anaconda3\\lib\\site-packages\\statsmodels\\tsa\\base\\tsa_model.py:524: ValueWarning: No frequency information was provided, so inferred frequency QS-OCT will be used.\n",
      "  warnings.warn('No frequency information was'\n"
     ]
    },
    {
     "name": "stdout",
     "output_type": "stream",
     "text": [
      "ARIMA(1, 1, 0)x(1, 0, 1, 4)4-AIC:467.3840552051655\n",
      "ARIMA(1, 1, 0)x(1, 1, 0, 4)4-AIC:342.50348339823466\n",
      "ARIMA(1, 1, 0)x(1, 1, 1, 4)4-AIC:343.7558066478975\n"
     ]
    },
    {
     "name": "stderr",
     "output_type": "stream",
     "text": [
      "C:\\Users\\pc\\anaconda3\\lib\\site-packages\\statsmodels\\tsa\\base\\tsa_model.py:524: ValueWarning: No frequency information was provided, so inferred frequency QS-OCT will be used.\n",
      "  warnings.warn('No frequency information was'\n",
      "C:\\Users\\pc\\anaconda3\\lib\\site-packages\\statsmodels\\tsa\\base\\tsa_model.py:524: ValueWarning: No frequency information was provided, so inferred frequency QS-OCT will be used.\n",
      "  warnings.warn('No frequency information was'\n",
      "C:\\Users\\pc\\anaconda3\\lib\\site-packages\\statsmodels\\tsa\\base\\tsa_model.py:524: ValueWarning: No frequency information was provided, so inferred frequency QS-OCT will be used.\n",
      "  warnings.warn('No frequency information was'\n",
      "C:\\Users\\pc\\anaconda3\\lib\\site-packages\\statsmodels\\tsa\\base\\tsa_model.py:524: ValueWarning: No frequency information was provided, so inferred frequency QS-OCT will be used.\n",
      "  warnings.warn('No frequency information was'\n"
     ]
    },
    {
     "name": "stdout",
     "output_type": "stream",
     "text": [
      "ARIMA(1, 1, 1)x(0, 0, 0, 4)4-AIC:465.7435005658044\n",
      "ARIMA(1, 1, 1)x(0, 0, 1, 4)4-AIC:467.55783655117796\n",
      "ARIMA(1, 1, 1)x(0, 1, 0, 4)4-AIC:342.46641159098573\n",
      "ARIMA(1, 1, 1)x(0, 1, 1, 4)4-AIC:344.43246623684297\n"
     ]
    },
    {
     "name": "stderr",
     "output_type": "stream",
     "text": [
      "C:\\Users\\pc\\anaconda3\\lib\\site-packages\\statsmodels\\tsa\\base\\tsa_model.py:524: ValueWarning: No frequency information was provided, so inferred frequency QS-OCT will be used.\n",
      "  warnings.warn('No frequency information was'\n",
      "C:\\Users\\pc\\anaconda3\\lib\\site-packages\\statsmodels\\tsa\\base\\tsa_model.py:524: ValueWarning: No frequency information was provided, so inferred frequency QS-OCT will be used.\n",
      "  warnings.warn('No frequency information was'\n",
      "C:\\Users\\pc\\anaconda3\\lib\\site-packages\\statsmodels\\tsa\\base\\tsa_model.py:524: ValueWarning: No frequency information was provided, so inferred frequency QS-OCT will be used.\n",
      "  warnings.warn('No frequency information was'\n",
      "C:\\Users\\pc\\anaconda3\\lib\\site-packages\\statsmodels\\tsa\\base\\tsa_model.py:524: ValueWarning: No frequency information was provided, so inferred frequency QS-OCT will be used.\n",
      "  warnings.warn('No frequency information was'\n",
      "C:\\Users\\pc\\anaconda3\\lib\\site-packages\\statsmodels\\tsa\\base\\tsa_model.py:524: ValueWarning: No frequency information was provided, so inferred frequency QS-OCT will be used.\n",
      "  warnings.warn('No frequency information was'\n",
      "C:\\Users\\pc\\anaconda3\\lib\\site-packages\\statsmodels\\tsa\\base\\tsa_model.py:524: ValueWarning: No frequency information was provided, so inferred frequency QS-OCT will be used.\n",
      "  warnings.warn('No frequency information was'\n",
      "C:\\Users\\pc\\anaconda3\\lib\\site-packages\\statsmodels\\tsa\\base\\tsa_model.py:524: ValueWarning: No frequency information was provided, so inferred frequency QS-OCT will be used.\n",
      "  warnings.warn('No frequency information was'\n",
      "C:\\Users\\pc\\anaconda3\\lib\\site-packages\\statsmodels\\tsa\\base\\tsa_model.py:524: ValueWarning: No frequency information was provided, so inferred frequency QS-OCT will be used.\n",
      "  warnings.warn('No frequency information was'\n"
     ]
    },
    {
     "name": "stdout",
     "output_type": "stream",
     "text": [
      "ARIMA(1, 1, 1)x(1, 0, 0, 4)4-AIC:467.5274453337451\n",
      "ARIMA(1, 1, 1)x(1, 0, 1, 4)4-AIC:469.519005011407\n"
     ]
    },
    {
     "name": "stderr",
     "output_type": "stream",
     "text": [
      "C:\\Users\\pc\\anaconda3\\lib\\site-packages\\statsmodels\\tsa\\base\\tsa_model.py:524: ValueWarning: No frequency information was provided, so inferred frequency QS-OCT will be used.\n",
      "  warnings.warn('No frequency information was'\n",
      "C:\\Users\\pc\\anaconda3\\lib\\site-packages\\statsmodels\\tsa\\base\\tsa_model.py:524: ValueWarning: No frequency information was provided, so inferred frequency QS-OCT will be used.\n",
      "  warnings.warn('No frequency information was'\n",
      "C:\\Users\\pc\\anaconda3\\lib\\site-packages\\statsmodels\\tsa\\base\\tsa_model.py:524: ValueWarning: No frequency information was provided, so inferred frequency QS-OCT will be used.\n",
      "  warnings.warn('No frequency information was'\n",
      "C:\\Users\\pc\\anaconda3\\lib\\site-packages\\statsmodels\\tsa\\base\\tsa_model.py:524: ValueWarning: No frequency information was provided, so inferred frequency QS-OCT will be used.\n",
      "  warnings.warn('No frequency information was'\n"
     ]
    },
    {
     "name": "stdout",
     "output_type": "stream",
     "text": [
      "ARIMA(1, 1, 1)x(1, 1, 0, 4)4-AIC:344.4074797917461\n",
      "ARIMA(1, 1, 1)x(1, 1, 1, 4)4-AIC:345.3455791610288\n"
     ]
    },
    {
     "name": "stderr",
     "output_type": "stream",
     "text": [
      "C:\\Users\\pc\\anaconda3\\lib\\site-packages\\statsmodels\\tsa\\base\\tsa_model.py:524: ValueWarning: No frequency information was provided, so inferred frequency QS-OCT will be used.\n",
      "  warnings.warn('No frequency information was'\n",
      "C:\\Users\\pc\\anaconda3\\lib\\site-packages\\statsmodels\\tsa\\base\\tsa_model.py:524: ValueWarning: No frequency information was provided, so inferred frequency QS-OCT will be used.\n",
      "  warnings.warn('No frequency information was'\n"
     ]
    }
   ],
   "source": [
    "from pylab import rcParams \n",
    "import statsmodels.api as sm \n",
    "for param in pdq: \n",
    "    for param_seasonal in seasonal_pdq: \n",
    "        try: \n",
    "            mod= sm.tsa.statespace.SARIMAX(ABC_data, order=param, seasonal_order= param_seasonal)\n",
    "            results= mod.fit() \n",
    "            print('ARIMA{}x{}4-AIC:{}'.format(param, param_seasonal, results.aic)) \n",
    "        except: \n",
    "            continue"
   ]
  },
  {
   "cell_type": "code",
   "execution_count": 79,
   "id": "63c4d2c5",
   "metadata": {},
   "outputs": [],
   "source": [
    "#ARIMA(0, 1, 1)x(0, 1, 0, 4)4-AIC:341.49547878503205"
   ]
  },
  {
   "cell_type": "code",
   "execution_count": 80,
   "id": "faace826",
   "metadata": {
    "scrolled": true
   },
   "outputs": [
    {
     "name": "stderr",
     "output_type": "stream",
     "text": [
      "C:\\Users\\pc\\anaconda3\\lib\\site-packages\\statsmodels\\tsa\\base\\tsa_model.py:524: ValueWarning: No frequency information was provided, so inferred frequency QS-OCT will be used.\n",
      "  warnings.warn('No frequency information was'\n",
      "C:\\Users\\pc\\anaconda3\\lib\\site-packages\\statsmodels\\tsa\\base\\tsa_model.py:524: ValueWarning: No frequency information was provided, so inferred frequency QS-OCT will be used.\n",
      "  warnings.warn('No frequency information was'\n"
     ]
    }
   ],
   "source": [
    "# Fitting the ARIMA Model\n",
    "import statsmodels.api as sm\n",
    "\n",
    "model2= sm.tsa.statespace.SARIMAX(ABC_data, order= (0, 1, 1), seasonal_order=(0, 1, 0, 4))\n",
    "results1=model2.fit()"
   ]
  },
  {
   "cell_type": "code",
   "execution_count": 81,
   "id": "c12d104d",
   "metadata": {},
   "outputs": [
    {
     "name": "stdout",
     "output_type": "stream",
     "text": [
      "==============================================================================\n",
      "                 coef    std err          z      P>|z|      [0.025      0.975]\n",
      "------------------------------------------------------------------------------\n",
      "ma.L1         -0.2513      0.320     -0.785      0.432      -0.879       0.376\n",
      "sigma2      1.398e+12   6.76e-14   2.07e+25      0.000     1.4e+12     1.4e+12\n",
      "==============================================================================\n"
     ]
    }
   ],
   "source": [
    "print(results1.summary().tables[1])"
   ]
  },
  {
   "cell_type": "code",
   "execution_count": 82,
   "id": "a23f7cf7",
   "metadata": {},
   "outputs": [
    {
     "data": {
      "image/png": "[encoded data removed]",
      "text/plain": [
       "<Figure size 1008x504 with 4 Axes>"
      ]
     },
     "metadata": {
      "needs_background": "light"
     },
     "output_type": "display_data"
    }
   ],
   "source": [
    "results1.plot_diagnostics(figsize=(14,7))\n",
    "plt.show()"
   ]
  },
  {
   "cell_type": "code",
   "execution_count": 83,
   "id": "2e8e9c58",
   "metadata": {},
   "outputs": [
    {
     "data": {
      "image/png": "[encoded data removed]",
      "text/plain": [
       "<Figure size 1008x504 with 1 Axes>"
      ]
     },
     "metadata": {
      "needs_background": "light"
     },
     "output_type": "display_data"
    }
   ],
   "source": [
    "pred1= results1.get_prediction(start= pd.to_datetime(\"2016-04-01\"),dynamic= False)\n",
    "pred_ci1= pred1.conf_int()\n",
    "ax=ABC[\"2014-01-01\":].plot(label=\"observed\")\n",
    "pred1.predicted_mean.plot(ax=ax,label=\"one step ahead forecast\", alpha =.6, figsize=(14,7))\n",
    "ax.fill_between(pred_ci1.index,\n",
    "               pred_ci1.iloc[:,0],\n",
    "               pred_ci1.iloc[:,1],alpha=.6)\n",
    "ax.set_xlabel(\"Date\")\n",
    "ax.set_ylabel(\"Pesticides Sale\")\n",
    "plt.legend()\n",
    "plt.show()"
   ]
  },
  {
   "cell_type": "code",
   "execution_count": 84,
   "id": "f5964458",
   "metadata": {},
   "outputs": [
    {
     "data": {
      "image/png": "[encoded data removed]",
      "text/plain": [
       "<Figure size 864x360 with 1 Axes>"
      ]
     },
     "metadata": {
      "needs_background": "light"
     },
     "output_type": "display_data"
    }
   ],
   "source": [
    "pred_uc1=results1.get_forecast(steps=6)\n",
    "pred_ci1=pred_uc1.conf_int()\n",
    "ax=ABC.plot(label='observed', figsize= (12,5))\n",
    "pred_uc1.predicted_mean.plot(ax=ax)\n",
    "ax.fill_between(pred_ci1.index,\n",
    "               pred_ci1.iloc[:,0],\n",
    "               pred_ci1.iloc[:,1],alpha=.6)\n",
    "\n",
    "ax.set_xlabel(\"QUARTERS\")\n",
    "ax.set_ylabel(\"Fertilizer Sales\")\n",
    "plt.legend()\n",
    "plt.show()"
   ]
  },
  {
   "cell_type": "code",
   "execution_count": 85,
   "id": "b87e67be",
   "metadata": {},
   "outputs": [
    {
     "data": {
      "text/plain": [
       "2017-10-01    1599472.0\n",
       "2018-01-01    2481073.0\n",
       "2018-04-01    3124960.0\n",
       "2018-07-01    4893629.0\n",
       "2018-10-01    2157556.0\n",
       "2019-01-01    3039157.0\n",
       "Freq: QS-OCT, Name: predicted_mean, dtype: float64"
      ]
     },
     "execution_count": 85,
     "metadata": {},
     "output_type": "execute_result"
    }
   ],
   "source": [
    "pred_uc1.predicted_mean.round()"
   ]
  }
 ],
 "metadata": {
  "kernelspec": {
   "display_name": "Python 3",
   "language": "python",
   "name": "python3"
  },
  "language_info": {
   "codemirror_mode": {
    "name": "ipython",
    "version": 3
   },
   "file_extension": ".py",
   "mimetype": "text/x-python",
   "name": "python",
   "nbconvert_exporter": "python",
   "pygments_lexer": "ipython3",
   "version": "3.8.8"
  }
 },
 "nbformat": 4,
 "nbformat_minor": 5
}
